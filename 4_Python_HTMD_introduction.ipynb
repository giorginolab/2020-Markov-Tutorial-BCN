{
 "cells": [
  {
   "cell_type": "markdown",
   "metadata": {},
   "source": [
    "# Welcome to the Markov-Model hands-on tutorial\n",
    "\n",
    "If you are reading this, you are on the right path already! This is a \"Python notebook\":\n",
    "a series of commands mixed with comments that you may execute, modify, re-execute\n",
    "at will.\n",
    "\n",
    "Cells are executed with **Shift+Enter**. If you need to start over, use **Kernel/Restart** in the top menu.\n",
    "\n",
    "\n",
    "## Getting started\n",
    "\n",
    "First we import the modules we are going to need for the tutorial. Please execute the following cell and ignore the output."
   ]
  },
  {
   "cell_type": "code",
   "execution_count": 1,
   "metadata": {},
   "outputs": [
    {
     "name": "stdout",
     "output_type": "stream",
     "text": [
      "\n",
      "Copyright by Acellera Ltd. By executing you are accepting the License. In order to register, run htmd_register on your terminal\n",
      "\n",
      "ffevaluate module is in beta version\n"
     ]
    }
   ],
   "source": [
    "from htmd.ui import *\n",
    "config(viewer=\"ngl\")"
   ]
  },
  {
   "cell_type": "code",
   "execution_count": 2,
   "metadata": {},
   "outputs": [
    {
     "name": "stderr",
     "output_type": "stream",
     "text": [
      "2019-01-14 16:36:04,626 - htmd.molecule.readers - INFO - Attempting PDB query for 3ffn\n",
      "/mnt/scratch/shared/miniconda/envs/htmd/lib/python3.6/site-packages/pyemma/__init__.py:91: UserWarning: You are not using the latest release of PyEMMA. Latest is 2.5.4, you have 2.4.\n",
      "  .format(latest=latest, current=current), category=UserWarning)\n"
     ]
    }
   ],
   "source": [
    "m=Molecule(\"3ffn\")"
   ]
  },
  {
   "cell_type": "code",
   "execution_count": 3,
   "metadata": {},
   "outputs": [
    {
     "data": {
      "application/vnd.jupyter.widget-view+json": {
       "model_id": "11b09f5d9eba4fea95ddbbe401c3c7f5",
       "version_major": 2,
       "version_minor": 0
      },
      "text/plain": [
       "A Jupyter Widget"
      ]
     },
     "metadata": {},
     "output_type": "display_data"
    }
   ],
   "source": [
    "m.view()"
   ]
  },
  {
   "cell_type": "markdown",
   "metadata": {},
   "source": [
    "# First example dataset: prothrombin\n",
    "\n",
    "Look into `/mnt/scratch/shared/markov/binding/`. You will find three independent replicase of the same system,\n",
    "namely prothrombin simulated with an inhibitor."
   ]
  },
  {
   "cell_type": "code",
   "execution_count": 4,
   "metadata": {},
   "outputs": [
    {
     "name": "stderr",
     "output_type": "stream",
     "text": [
      "2019-01-14 16:36:06,420 - htmd.molecule.readers - WARNING - Element guessing failed for atom with name C1   as the guessed element \"C1\" was not found in the periodic table. Check for incorrect column alignment in the PDB file or report to HTMD issue tracker.\n",
      "2019-01-14 16:36:06,425 - htmd.molecule.readers - WARNING - Element guessing failed for atom with name C2   as the guessed element \"C2\" was not found in the periodic table. Check for incorrect column alignment in the PDB file or report to HTMD issue tracker.\n",
      "2019-01-14 16:36:06,429 - htmd.molecule.readers - WARNING - Element guessing failed for atom with name C3   as the guessed element \"C3\" was not found in the periodic table. Check for incorrect column alignment in the PDB file or report to HTMD issue tracker.\n",
      "2019-01-14 16:36:06,432 - htmd.molecule.readers - WARNING - Element guessing failed for atom with name C4   as the guessed element \"C4\" was not found in the periodic table. Check for incorrect column alignment in the PDB file or report to HTMD issue tracker.\n",
      "2019-01-14 16:36:06,436 - htmd.molecule.readers - WARNING - Element guessing failed for atom with name C5   as the guessed element \"C5\" was not found in the periodic table. Check for incorrect column alignment in the PDB file or report to HTMD issue tracker.\n",
      "2019-01-14 16:36:06,439 - htmd.molecule.readers - WARNING - Element guessing failed for atom with name C6   as the guessed element \"C6\" was not found in the periodic table. Check for incorrect column alignment in the PDB file or report to HTMD issue tracker.\n",
      "2019-01-14 16:36:06,445 - htmd.molecule.readers - WARNING - Element guessing failed for atom with name CB   as the guessed element \"Cb\" was not found in the periodic table. Check for incorrect column alignment in the PDB file or report to HTMD issue tracker.\n",
      "2019-01-14 16:36:06,467 - htmd.molecule.readers - WARNING - Element guessing failed for atom with name CG   as the guessed element \"Cg\" was not found in the periodic table. Check for incorrect column alignment in the PDB file or report to HTMD issue tracker.\n",
      "2019-01-14 16:36:06,470 - htmd.molecule.readers - WARNING - Element guessing failed for atom with name CG1  as the guessed element \"Cg\" was not found in the periodic table. Check for incorrect column alignment in the PDB file or report to HTMD issue tracker.\n",
      "2019-01-14 16:36:06,474 - htmd.molecule.readers - WARNING - Element guessing failed for atom with name CG2  as the guessed element \"Cg\" was not found in the periodic table. Check for incorrect column alignment in the PDB file or report to HTMD issue tracker.\n",
      "2019-01-14 16:36:06,478 - htmd.molecule.readers - WARNING - Element guessing failed for atom with name CH2  as the guessed element \"Ch\" was not found in the periodic table. Check for incorrect column alignment in the PDB file or report to HTMD issue tracker.\n",
      "2019-01-14 16:36:06,481 - htmd.molecule.readers - WARNING - Element guessing failed for atom with name CZ   as the guessed element \"Cz\" was not found in the periodic table. Check for incorrect column alignment in the PDB file or report to HTMD issue tracker.\n",
      "2019-01-14 16:36:06,485 - htmd.molecule.readers - WARNING - Element guessing failed for atom with name CZ2  as the guessed element \"Cz\" was not found in the periodic table. Check for incorrect column alignment in the PDB file or report to HTMD issue tracker.\n",
      "2019-01-14 16:36:06,488 - htmd.molecule.readers - WARNING - Element guessing failed for atom with name CZ3  as the guessed element \"Cz\" was not found in the periodic table. Check for incorrect column alignment in the PDB file or report to HTMD issue tracker.\n",
      "2019-01-14 16:36:06,497 - htmd.molecule.readers - WARNING - Element guessing failed for atom with name H1   as the guessed element \"H1\" was not found in the periodic table. Check for incorrect column alignment in the PDB file or report to HTMD issue tracker.\n",
      "2019-01-14 16:36:06,501 - htmd.molecule.readers - WARNING - Element guessing failed for atom with name H10  as the guessed element \"H1\" was not found in the periodic table. Check for incorrect column alignment in the PDB file or report to HTMD issue tracker.\n",
      "2019-01-14 16:36:06,504 - htmd.molecule.readers - WARNING - Element guessing failed for atom with name H11  as the guessed element \"H1\" was not found in the periodic table. Check for incorrect column alignment in the PDB file or report to HTMD issue tracker.\n",
      "2019-01-14 16:36:06,508 - htmd.molecule.readers - WARNING - Element guessing failed for atom with name H12  as the guessed element \"H1\" was not found in the periodic table. Check for incorrect column alignment in the PDB file or report to HTMD issue tracker.\n",
      "2019-01-14 16:36:06,511 - htmd.molecule.readers - WARNING - Element guessing failed for atom with name H13  as the guessed element \"H1\" was not found in the periodic table. Check for incorrect column alignment in the PDB file or report to HTMD issue tracker.\n",
      "2019-01-14 16:36:06,515 - htmd.molecule.readers - WARNING - Element guessing failed for atom with name H14  as the guessed element \"H1\" was not found in the periodic table. Check for incorrect column alignment in the PDB file or report to HTMD issue tracker.\n",
      "2019-01-14 16:36:06,518 - htmd.molecule.readers - WARNING - Element guessing failed for atom with name H2   as the guessed element \"H2\" was not found in the periodic table. Check for incorrect column alignment in the PDB file or report to HTMD issue tracker.\n",
      "2019-01-14 16:36:06,522 - htmd.molecule.readers - WARNING - Element guessing failed for atom with name H3   as the guessed element \"H3\" was not found in the periodic table. Check for incorrect column alignment in the PDB file or report to HTMD issue tracker.\n",
      "2019-01-14 16:36:06,525 - htmd.molecule.readers - WARNING - Element guessing failed for atom with name H4   as the guessed element \"H4\" was not found in the periodic table. Check for incorrect column alignment in the PDB file or report to HTMD issue tracker.\n",
      "2019-01-14 16:36:06,529 - htmd.molecule.readers - WARNING - Element guessing failed for atom with name H5   as the guessed element \"H5\" was not found in the periodic table. Check for incorrect column alignment in the PDB file or report to HTMD issue tracker.\n",
      "2019-01-14 16:36:06,533 - htmd.molecule.readers - WARNING - Element guessing failed for atom with name H6   as the guessed element \"H6\" was not found in the periodic table. Check for incorrect column alignment in the PDB file or report to HTMD issue tracker.\n",
      "2019-01-14 16:36:06,536 - htmd.molecule.readers - WARNING - Element guessing failed for atom with name H7   as the guessed element \"H7\" was not found in the periodic table. Check for incorrect column alignment in the PDB file or report to HTMD issue tracker.\n",
      "2019-01-14 16:36:06,540 - htmd.molecule.readers - WARNING - Element guessing failed for atom with name H8   as the guessed element \"H8\" was not found in the periodic table. Check for incorrect column alignment in the PDB file or report to HTMD issue tracker.\n",
      "2019-01-14 16:36:06,543 - htmd.molecule.readers - WARNING - Element guessing failed for atom with name H9   as the guessed element \"H9\" was not found in the periodic table. Check for incorrect column alignment in the PDB file or report to HTMD issue tracker.\n",
      "2019-01-14 16:36:06,547 - htmd.molecule.readers - WARNING - Element guessing failed for atom with name HA   as the guessed element \"Ha\" was not found in the periodic table. Check for incorrect column alignment in the PDB file or report to HTMD issue tracker.\n",
      "2019-01-14 16:36:06,550 - htmd.molecule.readers - WARNING - Element guessing failed for atom with name HA2  as the guessed element \"Ha\" was not found in the periodic table. Check for incorrect column alignment in the PDB file or report to HTMD issue tracker.\n",
      "2019-01-14 16:36:06,554 - htmd.molecule.readers - WARNING - Element guessing failed for atom with name HA3  as the guessed element \"Ha\" was not found in the periodic table. Check for incorrect column alignment in the PDB file or report to HTMD issue tracker.\n",
      "2019-01-14 16:36:06,557 - htmd.molecule.readers - WARNING - Element guessing failed for atom with name HB   as the guessed element \"Hb\" was not found in the periodic table. Check for incorrect column alignment in the PDB file or report to HTMD issue tracker.\n"
     ]
    },
    {
     "name": "stderr",
     "output_type": "stream",
     "text": [
      "2019-01-14 16:36:06,561 - htmd.molecule.readers - WARNING - Element guessing failed for atom with name HB1  as the guessed element \"Hb\" was not found in the periodic table. Check for incorrect column alignment in the PDB file or report to HTMD issue tracker.\n",
      "2019-01-14 16:36:06,565 - htmd.molecule.readers - WARNING - Element guessing failed for atom with name HB2  as the guessed element \"Hb\" was not found in the periodic table. Check for incorrect column alignment in the PDB file or report to HTMD issue tracker.\n",
      "2019-01-14 16:36:06,568 - htmd.molecule.readers - WARNING - Element guessing failed for atom with name HB3  as the guessed element \"Hb\" was not found in the periodic table. Check for incorrect column alignment in the PDB file or report to HTMD issue tracker.\n",
      "2019-01-14 16:36:06,572 - htmd.molecule.readers - WARNING - Element guessing failed for atom with name HD1  as the guessed element \"Hd\" was not found in the periodic table. Check for incorrect column alignment in the PDB file or report to HTMD issue tracker.\n",
      "2019-01-14 16:36:06,583 - htmd.molecule.readers - WARNING - Element guessing failed for atom with name HD2  as the guessed element \"Hd\" was not found in the periodic table. Check for incorrect column alignment in the PDB file or report to HTMD issue tracker.\n",
      "2019-01-14 16:36:06,594 - htmd.molecule.readers - WARNING - Element guessing failed for atom with name HD3  as the guessed element \"Hd\" was not found in the periodic table. Check for incorrect column alignment in the PDB file or report to HTMD issue tracker.\n",
      "2019-01-14 16:36:06,637 - htmd.molecule.readers - WARNING - Element guessing failed for atom with name HH   as the guessed element \"Hh\" was not found in the periodic table. Check for incorrect column alignment in the PDB file or report to HTMD issue tracker.\n",
      "2019-01-14 16:36:06,646 - htmd.molecule.readers - WARNING - Element guessing failed for atom with name HH2  as the guessed element \"Hh\" was not found in the periodic table. Check for incorrect column alignment in the PDB file or report to HTMD issue tracker.\n",
      "2019-01-14 16:36:06,654 - htmd.molecule.readers - WARNING - Element guessing failed for atom with name HZ   as the guessed element \"Hz\" was not found in the periodic table. Check for incorrect column alignment in the PDB file or report to HTMD issue tracker.\n",
      "2019-01-14 16:36:06,658 - htmd.molecule.readers - WARNING - Element guessing failed for atom with name HZ1  as the guessed element \"Hz\" was not found in the periodic table. Check for incorrect column alignment in the PDB file or report to HTMD issue tracker.\n",
      "2019-01-14 16:36:06,661 - htmd.molecule.readers - WARNING - Element guessing failed for atom with name HZ2  as the guessed element \"Hz\" was not found in the periodic table. Check for incorrect column alignment in the PDB file or report to HTMD issue tracker.\n",
      "2019-01-14 16:36:06,665 - htmd.molecule.readers - WARNING - Element guessing failed for atom with name HZ3  as the guessed element \"Hz\" was not found in the periodic table. Check for incorrect column alignment in the PDB file or report to HTMD issue tracker.\n",
      "2019-01-14 16:36:06,671 - htmd.molecule.readers - WARNING - Element guessing failed for atom with name N1   as the guessed element \"N1\" was not found in the periodic table. Check for incorrect column alignment in the PDB file or report to HTMD issue tracker.\n",
      "2019-01-14 16:36:06,675 - htmd.molecule.readers - WARNING - Element guessing failed for atom with name N2   as the guessed element \"N2\" was not found in the periodic table. Check for incorrect column alignment in the PDB file or report to HTMD issue tracker.\n",
      "2019-01-14 16:36:06,678 - htmd.molecule.readers - WARNING - Element guessing failed for atom with name N3   as the guessed element \"N3\" was not found in the periodic table. Check for incorrect column alignment in the PDB file or report to HTMD issue tracker.\n",
      "2019-01-14 16:36:06,699 - htmd.molecule.readers - WARNING - Element guessing failed for atom with name NZ   as the guessed element \"Nz\" was not found in the periodic table. Check for incorrect column alignment in the PDB file or report to HTMD issue tracker.\n",
      "2019-01-14 16:36:06,705 - htmd.molecule.readers - WARNING - Element guessing failed for atom with name OD1  as the guessed element \"Od\" was not found in the periodic table. Check for incorrect column alignment in the PDB file or report to HTMD issue tracker.\n",
      "2019-01-14 16:36:06,709 - htmd.molecule.readers - WARNING - Element guessing failed for atom with name OD2  as the guessed element \"Od\" was not found in the periodic table. Check for incorrect column alignment in the PDB file or report to HTMD issue tracker.\n",
      "2019-01-14 16:36:06,716 - htmd.molecule.readers - WARNING - Element guessing failed for atom with name OE1  as the guessed element \"Oe\" was not found in the periodic table. Check for incorrect column alignment in the PDB file or report to HTMD issue tracker.\n",
      "2019-01-14 16:36:06,722 - htmd.molecule.readers - WARNING - Element guessing failed for atom with name OE2  as the guessed element \"Oe\" was not found in the periodic table. Check for incorrect column alignment in the PDB file or report to HTMD issue tracker.\n",
      "2019-01-14 16:36:06,732 - htmd.molecule.readers - WARNING - Element guessing failed for atom with name OH   as the guessed element \"Oh\" was not found in the periodic table. Check for incorrect column alignment in the PDB file or report to HTMD issue tracker.\n",
      "2019-01-14 16:36:06,736 - htmd.molecule.readers - WARNING - Element guessing failed for atom with name OXT  as the guessed element \"Ox\" was not found in the periodic table. Check for incorrect column alignment in the PDB file or report to HTMD issue tracker.\n",
      "2019-01-14 16:36:06,740 - htmd.molecule.readers - WARNING - Element guessing failed for atom with name SD   as the guessed element \"Sd\" was not found in the periodic table. Check for incorrect column alignment in the PDB file or report to HTMD issue tracker.\n",
      "2019-01-14 16:36:06,747 - htmd.molecule.readers - WARNING - Atoms with names \"HE21\" \"HE22\" were guessed as element H but could also be He (helium). If this is a case, you can correct them with mol.set('element', 'He', sel='name \"HE21\" \"HE22\"')\n",
      "2019-01-14 16:36:06,748 - htmd.molecule.readers - WARNING - Atoms with names \"HG11\" \"HG12\" \"HG13\" \"HG21\" \"HG22\" \"HG23\" were guessed as element H but could also be Hg (mercury). If this is a case, you can correct them with mol.set('element', 'Hg', sel='name \"HG11\" \"HG12\" \"HG13\" \"HG21\" \"HG22\" \"HG23\"')\n"
     ]
    },
    {
     "data": {
      "application/vnd.jupyter.widget-view+json": {
       "model_id": "d6ccab7793a44a87a3e5110e567361a0",
       "version_major": 2,
       "version_minor": 0
      },
      "text/plain": [
       "A Jupyter Widget"
      ]
     },
     "metadata": {},
     "output_type": "display_data"
    }
   ],
   "source": [
    "n=Molecule(\"/mnt/scratch/shared/markov/binding/1/filtered/filtered.pdb\")\n",
    "n.view()"
   ]
  },
  {
   "cell_type": "code",
   "execution_count": 5,
   "metadata": {},
   "outputs": [
    {
     "data": {
      "text/plain": [
       "{'': 'EADCGLRPLFEKKSLEDKTERELLESYIIVEGSDAEIGMSPWQVMLFRKSPQELLCGASLISDRWVLTAAHCLLYPPWDKNFTENDLLVRIGKHSRTRYERNIEKISMLEKIYIHPRYNWRENLDRDIALMKLKKPVAFSDYIHPVCLPDRETAASLLQAGYKGRVTGWGNLKEGQPSVLQVVNLPIVERPVCKDSTRIRITDNMFCAGYKPDEGKRGDACEGDSGGPFVMKSPFNNRWYQMGIVSWGEGCDRDGKYGFYTHVFRLKKWIQKVIDQF'}"
      ]
     },
     "execution_count": 5,
     "metadata": {},
     "output_type": "execute_result"
    }
   ],
   "source": [
    "n.sequence()"
   ]
  },
  {
   "cell_type": "code",
   "execution_count": 6,
   "metadata": {},
   "outputs": [
    {
     "data": {
      "text/plain": [
       "array(['MOL', 'MOL', 'MOL', 'MOL', 'MOL', 'MOL', 'MOL', 'MOL', 'MOL',\n",
       "       'MOL', 'MOL', 'MOL', 'MOL', 'MOL', 'MOL', 'MOL', 'MOL', 'MOL',\n",
       "       'MOL', 'MOL', 'MOL', 'MOL', 'MOL', 'Cl-', 'Cl-', 'Cl-', 'Cl-'], dtype=object)"
      ]
     },
     "execution_count": 6,
     "metadata": {},
     "output_type": "execute_result"
    }
   ],
   "source": [
    "n.get(\"resname\",sel=\"not protein\")"
   ]
  },
  {
   "cell_type": "code",
   "execution_count": 7,
   "metadata": {},
   "outputs": [
    {
     "name": "stderr",
     "output_type": "stream",
     "text": [
      "2019-01-14 16:36:07,182 - htmd.molecule.molecule - INFO - Removed 4484 atoms. 23 atoms remaining in the molecule.\n"
     ]
    },
    {
     "data": {
      "application/vnd.jupyter.widget-view+json": {
       "model_id": "773dc7b59c1842ca8206ebabe5f871a4",
       "version_major": 2,
       "version_minor": 0
      },
      "text/plain": [
       "A Jupyter Widget"
      ]
     },
     "metadata": {},
     "output_type": "display_data"
    }
   ],
   "source": [
    "ligand=n.copy()\n",
    "ligand.filter(\"resname MOL\")\n",
    "ligand.view()"
   ]
  },
  {
   "cell_type": "markdown",
   "metadata": {},
   "source": [
    "The inhibitor seems to be *Piperidin-1-ylmethanediamine*. See PubChem: https://pubchem.ncbi.nlm.nih.gov/compound/67834394"
   ]
  },
  {
   "cell_type": "markdown",
   "metadata": {},
   "source": [
    "# Note the data set layout\n",
    "\n",
    "```\n",
    "/mnt/scratch/shared/markov/binding/\n",
    "    ├── 1\n",
    "    │   └── filtered\n",
    "    │       ├── e10s1_e7s5f133\n",
    "    │       │   └── e10s1_e7s5f133-SDOERR_thrombinLig6x1-0-1-RND6286_9.filtered.xtc\n",
    "    │       ├── e10s2_e7s5f159\n",
    "    │       │   └── e10s2_e7s5f159-SDOERR_thrombinLig6x1-0-1-RND8907_9.filtered.xtc\n",
    "    │       ├── e10s3_e7s5f133\n",
    "    │       │   └── e10s3_e7s5f133-SDOERR_thrombinLig6x1-0-1-RND5451_9.filtered.xtc\n",
    "...    \n",
    "\n",
    "            ├── e9s6_e2s5f112\n",
    "            │   └── e9s6_e2s5f112-SDOERR_thrombinLig6x3-0-1-RND3971_9.filtered.xtc\n",
    "            ├── filtered.pdb\n",
    "            └── filtered.psf\n",
    "\n",
    "860 directories, 858 files\n",
    "```\n",
    "\n",
    "Each `.xtc` file is one trajectory of 20 ns (200 frames). Frames are spaced 100 ps from each other. Each trajectory is a small piece of the whole simulation set.  File names indicate the identity of the trajectory (e.g. `e10s1`) and where it started from (e.g. `e7s5f133` means that the first frame of that configuration was frame 133 of `e7s5`).\n",
    "\n",
    "Water molecules were removed. To visualize properly, first `wrap()` then `align()` the trajectory (to account for PBC and diffusion).\n"
   ]
  },
  {
   "cell_type": "code",
   "execution_count": 8,
   "metadata": {},
   "outputs": [
    {
     "data": {
      "text/plain": [
       "<htmd.molecule.molecule.Molecule object at 0x7f7855555668>\n",
       "Molecule with 4507 atoms and 200 frames\n",
       "Atom field - altloc shape: (4507,)\n",
       "Atom field - atomtype shape: (4507,)\n",
       "Atom field - beta shape: (4507,)\n",
       "Atom field - chain shape: (4507,)\n",
       "Atom field - charge shape: (4507,)\n",
       "Atom field - coords shape: (4507, 3, 200)\n",
       "Atom field - element shape: (4507,)\n",
       "Atom field - insertion shape: (4507,)\n",
       "Atom field - masses shape: (4507,)\n",
       "Atom field - name shape: (4507,)\n",
       "Atom field - occupancy shape: (4507,)\n",
       "Atom field - record shape: (4507,)\n",
       "Atom field - resid shape: (4507,)\n",
       "Atom field - resname shape: (4507,)\n",
       "Atom field - segid shape: (4507,)\n",
       "Atom field - serial shape: (4507,)\n",
       "angles shape: (0, 3)\n",
       "bonds shape: (4562, 2)\n",
       "bondtype shape: (4562,)\n",
       "box shape: (3, 200)\n",
       "boxangles shape: (3, 200)\n",
       "crystalinfo: None\n",
       "dihedrals shape: (0, 4)\n",
       "fileloc shape: (200, 2)\n",
       "impropers shape: (0, 4)\n",
       "reps: \n",
       "ssbonds shape: (0,)\n",
       "step shape: (200,)\n",
       "time shape: (200,)\n",
       "topoloc: /mnt/scratch/shared/markov/binding/1/filtered/filtered.psf\n",
       "viewname: filtered.psf"
      ]
     },
     "execution_count": 8,
     "metadata": {},
     "output_type": "execute_result"
    }
   ],
   "source": [
    "m=Molecule(\"/mnt/scratch/shared/markov/binding/1/filtered/filtered.psf\")\n",
    "m.read(\"/mnt/scratch/shared/markov/binding/1/filtered/e10s1_e7s5f133/e10s1_e7s5f133-SDOERR_thrombinLig6x1-0-1-RND6286_9.filtered.xtc\")\n",
    "m"
   ]
  },
  {
   "cell_type": "code",
   "execution_count": 9,
   "metadata": {},
   "outputs": [
    {
     "data": {
      "application/vnd.jupyter.widget-view+json": {
       "model_id": "4bf1d0099b5f456db722a4e57cb0ec0c",
       "version_major": 2,
       "version_minor": 0
      },
      "text/plain": [
       "A Jupyter Widget"
      ]
     },
     "metadata": {},
     "output_type": "display_data"
    }
   ],
   "source": [
    "m.wrap()\n",
    "m.align(\"protein and name CA\")\n",
    "m.view()"
   ]
  },
  {
   "cell_type": "code",
   "execution_count": 10,
   "metadata": {},
   "outputs": [
    {
     "data": {
      "text/plain": [
       "array([   5,   20,   30,   42,   52,   59,   78,  110,  116,  135,  155,\n",
       "        170,  192,  214,  225,  244,  259,  271,  293,  307,  322,  346,\n",
       "        361,  380,  399,  414,  425,  446,  468,  487,  503,  518,  525,\n",
       "        536,  548,  558,  573,  592,  599,  616,  635,  641,  665,  682,\n",
       "        698,  715,  734,  754,  778,  800,  819,  825,  842,  857,  876,\n",
       "        895,  905,  912,  922,  933,  952,  971,  982,  994, 1018, 1042,\n",
       "       1058, 1077, 1091, 1101, 1111, 1128, 1138, 1157, 1176, 1205, 1219,\n",
       "       1225, 1249, 1261, 1283, 1297, 1317, 1331, 1346, 1360, 1372, 1391,\n",
       "       1410, 1426, 1450, 1469, 1476, 1498, 1515, 1526, 1550, 1564, 1588,\n",
       "       1609, 1624, 1648, 1662, 1681, 1696, 1718, 1737, 1748, 1765, 1784,\n",
       "       1799, 1821, 1840, 1861, 1880, 1905, 1911, 1935, 1956, 1970, 1994,\n",
       "       2018, 2033, 2047, 2066, 2078, 2102, 2114, 2133, 2143, 2162, 2179,\n",
       "       2201, 2220, 2242, 2272, 2278, 2294, 2304, 2324, 2335, 2347, 2368,\n",
       "       2387, 2412, 2418, 2434, 2444, 2471, 2477, 2489, 2513, 2528, 2542,\n",
       "       2552, 2562, 2573, 2592, 2611, 2628, 2638, 2645, 2666, 2688, 2695,\n",
       "       2719, 2735, 2749, 2756, 2780, 2787, 2801, 2820, 2842, 2857, 2864,\n",
       "       2889, 2895, 2906, 2922, 2941, 2958, 2974, 2990, 3004, 3031, 3037,\n",
       "       3056, 3072, 3087, 3119, 3125, 3141, 3151, 3173, 3185, 3196, 3210,\n",
       "       3234, 3253, 3277, 3296, 3310, 3322, 3336, 3353, 3373, 3383, 3393,\n",
       "       3400, 3421, 3451, 3457, 3469, 3484, 3491, 3513, 3537, 3544, 3556,\n",
       "       3566, 3576, 3591, 3598, 3610, 3621, 3628, 3643, 3649, 3669, 3685,\n",
       "       3702, 3724, 3743, 3749, 3769, 3783, 3797, 3821, 3845, 3866, 3883,\n",
       "       3900, 3907, 3926, 3942, 3953, 3977, 3984, 3999, 4006, 4016, 4028,\n",
       "       4052, 4064, 4071, 4093, 4114, 4121, 4141, 4162, 4176, 4193, 4209,\n",
       "       4229, 4253, 4272, 4294, 4316, 4340, 4359, 4376, 4398, 4414, 4433,\n",
       "       4445, 4462])"
      ]
     },
     "execution_count": 10,
     "metadata": {},
     "output_type": "execute_result"
    }
   ],
   "source": [
    "m.get(\"serial\",sel=\"protein and name CA\")"
   ]
  },
  {
   "cell_type": "code",
   "execution_count": 11,
   "metadata": {},
   "outputs": [
    {
     "data": {
      "text/plain": [
       "array([4481, 4484, 4487, 4490, 4493, 4496, 4497, 4498, 4501])"
      ]
     },
     "execution_count": 11,
     "metadata": {},
     "output_type": "execute_result"
    }
   ],
   "source": [
    "m.get(\"serial\",sel=\"resname MOL and noh\")"
   ]
  },
  {
   "cell_type": "markdown",
   "metadata": {},
   "source": [
    "## Visualize selected frames\n",
    "\n",
    "Copy of the above, for convenience."
   ]
  },
  {
   "cell_type": "code",
   "execution_count": 12,
   "metadata": {},
   "outputs": [
    {
     "data": {
      "application/vnd.jupyter.widget-view+json": {
       "model_id": "4339df6192994324b7a44add6e06f842",
       "version_major": 2,
       "version_minor": 0
      },
      "text/plain": [
       "A Jupyter Widget"
      ]
     },
     "metadata": {},
     "output_type": "display_data"
    }
   ],
   "source": [
    "m=Molecule(\"/mnt/scratch/shared/markov/binding/1/filtered/filtered.psf\")\n",
    "m.read(\"/mnt/scratch/shared/markov/binding/1/filtered/e12s1_e9s4f131/e12s1_e9s4f131-SDOERR_thrombinLig6x1-0-1-RND2190_9.filtered.xtc\")\n",
    "m.wrap()\n",
    "m.align(\"protein and name CA\")\n",
    "m.view()"
   ]
  },
  {
   "cell_type": "code",
   "execution_count": 13,
   "metadata": {},
   "outputs": [
    {
     "data": {
      "application/vnd.jupyter.widget-view+json": {
       "model_id": "e9fd779de5ab41f7a9d378a3a80b21c4",
       "version_major": 2,
       "version_minor": 0
      },
      "text/plain": [
       "A Jupyter Widget"
      ]
     },
     "metadata": {},
     "output_type": "display_data"
    }
   ],
   "source": [
    "m=Molecule(\"/mnt/scratch/shared/markov/binding/1/filtered/filtered.psf\")\n",
    "m.read(\"/mnt/scratch/shared/markov/binding/1/filtered/e12s5_e10s6f112/e12s5_e10s6f112-SDOERR_thrombinLig6x1-0-1-RND3432_9.filtered.xtc\")\n",
    "m.wrap()\n",
    "m.align(\"protein and name CA\")\n",
    "m.view()"
   ]
  },
  {
   "cell_type": "code",
   "execution_count": null,
   "metadata": {},
   "outputs": [],
   "source": []
  }
 ],
 "metadata": {
  "kernelspec": {
   "display_name": "Python 3",
   "language": "python",
   "name": "python3"
  },
  "language_info": {
   "codemirror_mode": {
    "name": "ipython",
    "version": 3
   },
   "file_extension": ".py",
   "mimetype": "text/x-python",
   "name": "python",
   "nbconvert_exporter": "python",
   "pygments_lexer": "ipython3",
   "version": "3.6.9"
  }
 },
 "nbformat": 4,
 "nbformat_minor": 2
}
