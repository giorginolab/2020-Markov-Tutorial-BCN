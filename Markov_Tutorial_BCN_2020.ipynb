{
  "nbformat": 4,
  "nbformat_minor": 0,
  "metadata": {
    "colab": {
      "name": "Markov-Tutorial-BCN-2020",
      "provenance": [],
      "collapsed_sections": [],
      "authorship_tag": "ABX9TyO+aMg1aAcGL1m5ZRLf6g4o"
    },
    "kernelspec": {
      "name": "python3",
      "display_name": "Python 3"
    }
  },
  "cells": [
    {
      "cell_type": "markdown",
      "metadata": {
        "id": "Ehl-15pAquqz",
        "colab_type": "text"
      },
      "source": [
        "# Markov state models of a 1D trajectory\n",
        "\n",
        "## MSI course, Master in Bioinformatics for Health Sciences, UPF\n",
        "*Toni Giorgino, IBF-CNR, Italy* - www.giorginolab.it\n",
        "\n",
        "[![Open In Colab](https://colab.research.google.com/assets/colab-badge.svg)](https://colab.research.google.com/drive/1YkKuTYQM6knNKLf5XEdEHqOC4zkKy5QZ)\n",
        "\n",
        "\n",
        "# Introduction\n",
        "\n",
        "This file shows the basic concept of Markov State Model (MSM)\n",
        "building \"from the ground up\", i.e. without using one\n",
        "of the specialized libraries. It is implemented in the\n",
        "R language, and can be trivially translated into\n",
        "any other supporting linear algebra functions (notably,\n",
        "eigendecomposition).\n",
        "\n",
        "We first load the trajectory. It was\n",
        "constructed as the location of a walker\n",
        "moving stochastically in a 1D double-well\n",
        "potential. There are 100,000 trajectory steps.\n",
        "The motion takes place in a finite, 100-states \n",
        "space corresponding to the X positions (in other words,\n",
        "the trajectory has already been converted into microstates).\n",
        "\n",
        "(This is the same trajectory distributed\n",
        "with PyEmma's `load_2well_discrete` function.\n",
        "The `d10` version has the same number of points,\n",
        "but decimated by a factor of 10 (so 10 times longer). For\n",
        "PyEmma see http://emma-project.org and the \n",
        "corresponding paper (see references at the bottom).\n"
      ]
    },
    {
      "cell_type": "code",
      "metadata": {
        "id": "UMX342r4rN4e",
        "colab_type": "code",
        "outputId": "3d08205a-e33b-481a-c0a7-c7c311ba98f7",
        "colab": {
          "base_uri": "https://localhost:8080/",
          "height": 121
        }
      },
      "source": [
        "!git clone https://github.com/giorginolab/Markov-Tutorial-BCN-2020.git"
      ],
      "execution_count": 1,
      "outputs": [
        {
          "output_type": "stream",
          "text": [
            "Cloning into 'Markov-Tutorial-BCN-2020'...\n",
            "remote: Enumerating objects: 38, done.\u001b[K\n",
            "remote: Counting objects:   2% (1/38)\u001b[K\rremote: Counting objects:   5% (2/38)\u001b[K\rremote: Counting objects:   7% (3/38)\u001b[K\rremote: Counting objects:  10% (4/38)\u001b[K\rremote: Counting objects:  13% (5/38)\u001b[K\rremote: Counting objects:  15% (6/38)\u001b[K\rremote: Counting objects:  18% (7/38)\u001b[K\rremote: Counting objects:  21% (8/38)\u001b[K\rremote: Counting objects:  23% (9/38)\u001b[K\rremote: Counting objects:  26% (10/38)\u001b[K\rremote: Counting objects:  28% (11/38)\u001b[K\rremote: Counting objects:  31% (12/38)\u001b[K\rremote: Counting objects:  34% (13/38)\u001b[K\rremote: Counting objects:  36% (14/38)\u001b[K\rremote: Counting objects:  39% (15/38)\u001b[K\rremote: Counting objects:  42% (16/38)\u001b[K\rremote: Counting objects:  44% (17/38)\u001b[K\rremote: Counting objects:  47% (18/38)\u001b[K\rremote: Counting objects:  50% (19/38)\u001b[K\rremote: Counting objects:  52% (20/38)\u001b[K\rremote: Counting objects:  55% (21/38)\u001b[K\rremote: Counting objects:  57% (22/38)\u001b[K\rremote: Counting objects:  60% (23/38)\u001b[K\rremote: Counting objects:  63% (24/38)\u001b[K\rremote: Counting objects:  65% (25/38)\u001b[K\rremote: Counting objects:  68% (26/38)\u001b[K\rremote: Counting objects:  71% (27/38)\u001b[K\rremote: Counting objects:  73% (28/38)\u001b[K\rremote: Counting objects:  76% (29/38)\u001b[K\rremote: Counting objects:  78% (30/38)\u001b[K\rremote: Counting objects:  81% (31/38)\u001b[K\rremote: Counting objects:  84% (32/38)\u001b[K\rremote: Counting objects:  86% (33/38)\u001b[K\rremote: Counting objects:  89% (34/38)\u001b[K\rremote: Counting objects:  92% (35/38)\u001b[K\rremote: Counting objects:  94% (36/38)\u001b[K\rremote: Counting objects:  97% (37/38)\u001b[K\rremote: Counting objects: 100% (38/38)\u001b[K\rremote: Counting objects: 100% (38/38), done.\u001b[K\n",
            "remote: Compressing objects:   3% (1/29)\u001b[K\rremote: Compressing objects:   6% (2/29)\u001b[K\rremote: Compressing objects:  10% (3/29)\u001b[K\rremote: Compressing objects:  13% (4/29)\u001b[K\rremote: Compressing objects:  17% (5/29)\u001b[K\rremote: Compressing objects:  20% (6/29)\u001b[K\rremote: Compressing objects:  24% (7/29)\u001b[K\rremote: Compressing objects:  27% (8/29)\u001b[K\rremote: Compressing objects:  31% (9/29)\u001b[K\rremote: Compressing objects:  34% (10/29)\u001b[K\rremote: Compressing objects:  37% (11/29)\u001b[K\rremote: Compressing objects:  41% (12/29)\u001b[K\rremote: Compressing objects:  44% (13/29)\u001b[K\rremote: Compressing objects:  48% (14/29)\u001b[K\rremote: Compressing objects:  51% (15/29)\u001b[K\rremote: Compressing objects:  55% (16/29)\u001b[K\rremote: Compressing objects:  58% (17/29)\u001b[K\rremote: Compressing objects:  62% (18/29)\u001b[K\rremote: Compressing objects:  65% (19/29)\u001b[K\rremote: Compressing objects:  68% (20/29)\u001b[K\rremote: Compressing objects:  72% (21/29)\u001b[K\rremote: Compressing objects:  75% (22/29)\u001b[K\rremote: Compressing objects:  79% (23/29)\u001b[K\rremote: Compressing objects:  82% (24/29)\u001b[K\rremote: Compressing objects:  86% (25/29)\u001b[K\rremote: Compressing objects:  89% (26/29)\u001b[K\rremote: Compressing objects:  93% (27/29)\u001b[K\rremote: Compressing objects:  96% (28/29)\u001b[K\rremote: Compressing objects: 100% (29/29)\u001b[K\rremote: Compressing objects: 100% (29/29), done.\u001b[K\n",
            "Unpacking objects:   2% (1/38)   \rUnpacking objects:   5% (2/38)   \rUnpacking objects:   7% (3/38)   \rUnpacking objects:  10% (4/38)   \rUnpacking objects:  13% (5/38)   \rUnpacking objects:  15% (6/38)   \rUnpacking objects:  18% (7/38)   \rUnpacking objects:  21% (8/38)   \rUnpacking objects:  23% (9/38)   \rUnpacking objects:  26% (10/38)   \rUnpacking objects:  28% (11/38)   \rUnpacking objects:  31% (12/38)   \rUnpacking objects:  34% (13/38)   \rUnpacking objects:  36% (14/38)   \rUnpacking objects:  39% (15/38)   \rUnpacking objects:  42% (16/38)   \rUnpacking objects:  44% (17/38)   \rUnpacking objects:  47% (18/38)   \rUnpacking objects:  50% (19/38)   \rUnpacking objects:  52% (20/38)   \rUnpacking objects:  55% (21/38)   \rUnpacking objects:  57% (22/38)   \rUnpacking objects:  60% (23/38)   \rUnpacking objects:  63% (24/38)   \rUnpacking objects:  65% (25/38)   \rUnpacking objects:  68% (26/38)   \rUnpacking objects:  71% (27/38)   \rUnpacking objects:  73% (28/38)   \rUnpacking objects:  76% (29/38)   \rUnpacking objects:  78% (30/38)   \rUnpacking objects:  81% (31/38)   \rUnpacking objects:  84% (32/38)   \rUnpacking objects:  86% (33/38)   \rUnpacking objects:  89% (34/38)   \rUnpacking objects:  92% (35/38)   \rremote: Total 38 (delta 9), reused 37 (delta 8), pack-reused 0\u001b[K\n",
            "Unpacking objects:  94% (36/38)   \rUnpacking objects:  97% (37/38)   \rUnpacking objects: 100% (38/38)   \rUnpacking objects: 100% (38/38), done.\n"
          ],
          "name": "stdout"
        }
      ]
    },
    {
      "cell_type": "code",
      "metadata": {
        "id": "ZX7mNxIrrxyd",
        "colab_type": "code",
        "outputId": "1241904f-b030-41ba-d7e7-b7c850414e95",
        "colab": {
          "base_uri": "https://localhost:8080/",
          "height": 330
        }
      },
      "source": [
        "%cd /content/Markov-Tutorial-BCN-2020\n",
        "%ls -l"
      ],
      "execution_count": 2,
      "outputs": [
        {
          "output_type": "stream",
          "text": [
            "/content/Markov-Tutorial-BCN-2020\n",
            "total 7400\n",
            "-rw-r--r-- 1 root root   11490 Apr 27 09:19 1_MarkovFromScratch.Rmd\n",
            "-rw-r--r-- 1 root root     690 Apr 27 09:19 2_project-with-plumed.sh\n",
            "-rw-r--r-- 1 root root   10180 Apr 27 09:19 3_MarkovOnLargeDataset.Rmd\n",
            "-rw-r--r-- 1 root root   29928 Apr 27 09:19 4_Python_HTMD_introduction.ipynb\n",
            "-rw-r--r-- 1 root root  407069 Apr 27 09:19 5_ligand-binding-analysis.ipynb\n",
            "-rw-r--r-- 1 root root     204 Apr 27 09:19 code.Rproj\n",
            "-rw-r--r-- 1 root root     134 Apr 27 09:19 convert.sh\n",
            "-rw-r--r-- 1 root root  113056 Apr 27 09:19 data10.csv.gz\n",
            "-rw-r--r-- 1 root root   62456 Apr 27 09:19 data1.csv.gz\n",
            "drwxr-xr-x 2 root root    4096 Apr 27 09:19 \u001b[0m\u001b[01;34mfigs\u001b[0m/\n",
            "-rw-r--r-- 1 root root  365182 Apr 27 09:19 filtered.pdb\n",
            "-rwxr-xr-x 1 root root     554 Apr 27 09:19 \u001b[01;32mgo-markov\u001b[0m*\n",
            "-rw-r--r-- 1 root root 6504772 Apr 27 09:19 metrics.dat\n",
            "-rw-r--r-- 1 root root    2234 Apr 27 09:19 protein_ligand_vector.plumed\n",
            "-rw-r--r-- 1 root root    1161 Apr 27 09:19 README.md\n",
            "-rw-r--r-- 1 root root   21887 Apr 27 09:19 reference.pdb\n"
          ],
          "name": "stdout"
        }
      ]
    },
    {
      "cell_type": "code",
      "metadata": {
        "id": "lWRWtA-GqtHZ",
        "colab_type": "code",
        "colab": {}
      },
      "source": [
        "import numpy as np\n",
        "import matplotlib.pyplot as plt"
      ],
      "execution_count": 0,
      "outputs": []
    },
    {
      "cell_type": "code",
      "metadata": {
        "id": "URBix0p51Fxg",
        "colab_type": "code",
        "colab": {}
      },
      "source": [
        "# Boltzmann constant times temperature. This is a toy example, so its\n",
        "# value does not matter, but it would in a real simulation\n",
        "\n",
        "kB = 0.0019872041 #kcal/mol/K\n",
        "kBT = kB * 300.0"
      ],
      "execution_count": 0,
      "outputs": []
    },
    {
      "cell_type": "code",
      "metadata": {
        "id": "ZFKU3ZmGryg1",
        "colab_type": "code",
        "colab": {}
      },
      "source": [
        "d1 = np.loadtxt(\"data1.csv.gz\")\n",
        "d10 = np.loadtxt(\"data1.csv.gz\")"
      ],
      "execution_count": 0,
      "outputs": []
    },
    {
      "cell_type": "code",
      "metadata": {
        "id": "l9gUJWv1sIUM",
        "colab_type": "code",
        "colab": {}
      },
      "source": [
        "d=d1"
      ],
      "execution_count": 0,
      "outputs": []
    },
    {
      "cell_type": "code",
      "metadata": {
        "id": "6aKSaJ3BsKTz",
        "colab_type": "code",
        "outputId": "8eb76850-9db3-4052-eedd-0aecb9cff974",
        "colab": {
          "base_uri": "https://localhost:8080/",
          "height": 34
        }
      },
      "source": [
        "d"
      ],
      "execution_count": 7,
      "outputs": [
        {
          "output_type": "execute_result",
          "data": {
            "text/plain": [
              "array([23., 23., 24., ..., 37., 37., 37.])"
            ]
          },
          "metadata": {
            "tags": []
          },
          "execution_count": 7
        }
      ]
    },
    {
      "cell_type": "code",
      "metadata": {
        "id": "QPWv7J9jsKib",
        "colab_type": "code",
        "outputId": "bc5c96b8-ad58-4554-d3b4-774328e19131",
        "colab": {
          "base_uri": "https://localhost:8080/",
          "height": 296
        }
      },
      "source": [
        "plt.plot(d)\n",
        "plt.xlabel(\"Time (a.u.)\")\n",
        "plt.ylabel(\"State (X coordinate, 1 to 100)\")\n"
      ],
      "execution_count": 8,
      "outputs": [
        {
          "output_type": "execute_result",
          "data": {
            "text/plain": [
              "Text(0, 0.5, 'State (X coordinate, 1 to 100)')"
            ]
          },
          "metadata": {
            "tags": []
          },
          "execution_count": 8
        },
        {
          "output_type": "display_data",
          "data": {
            "image/png": "[encoded data removed]",
            "text/plain": [
              "<Figure size 432x288 with 1 Axes>"
            ]
          },
          "metadata": {
            "tags": [],
            "needs_background": "light"
          }
        }
      ]
    },
    {
      "cell_type": "markdown",
      "metadata": {
        "id": "ubuRLgXqsjiA",
        "colab_type": "text"
      },
      "source": [
        "\n",
        "# State probabilities and Boltzmann inversion\n",
        "\n",
        "Without considering the kinetics, and\n",
        "assuming the sampled trajectory was \n",
        "sufficiently long (sufficient sampling\n",
        "of the equilibrium distribution)\n",
        "we can try to compute the underlying\n",
        "free-energy potential by the probability\n",
        "distribution of the states, i.e. how many\n",
        "times (= fraction of the total time \n",
        "spent) each was visited.\n"
      ]
    },
    {
      "cell_type": "code",
      "metadata": {
        "id": "YfEcRt7OslH7",
        "colab_type": "code",
        "outputId": "613d226a-3dda-4771-a5e4-02b16e708edc",
        "colab": {
          "base_uri": "https://localhost:8080/",
          "height": 156
        }
      },
      "source": [
        "hstate, hcount = np.unique(d, return_counts=True)\n",
        "\n",
        "print(hstate,hcount)"
      ],
      "execution_count": 9,
      "outputs": [
        {
          "output_type": "stream",
          "text": [
            "[17. 18. 19. 20. 21. 22. 23. 24. 25. 26. 27. 28. 29. 30. 31. 32. 33. 34.\n",
            " 35. 36. 37. 38. 39. 40. 41. 42. 43. 44. 45. 46. 47. 48. 49. 50. 51. 52.\n",
            " 53. 54. 55. 56. 57. 58. 59. 60. 61. 62. 63. 64. 65. 66. 67. 68. 69. 70.\n",
            " 71. 72. 73. 74. 75. 76. 77. 78. 79. 80. 81.] [   2    4    5   15   25   48   90  182  329  610  994 1524 2300 3211\n",
            " 4148 4812 5078 4693 4219 3736 3250 2639 1989 1637 1349  918  691  528\n",
            "  391  339  390  345  307  302  329  331  327  371  421  506  702  916\n",
            " 1157 1567 2057 2566 3136 3825 4507 4818 4740 4219 3577 2828 2165 1458\n",
            " 1025  640  353  189   96   41   15   14    4]\n"
          ],
          "name": "stdout"
        }
      ]
    },
    {
      "cell_type": "code",
      "metadata": {
        "id": "QVvbgl8Ns7Cn",
        "colab_type": "code",
        "outputId": "d4e38f34-e705-45ff-f721-1666e96a4189",
        "colab": {
          "base_uri": "https://localhost:8080/",
          "height": 279
        }
      },
      "source": [
        "plt.plot(hstate,hcount)\n",
        "plt.xlabel(\"State (X coordinate, 1 to 100)\")\n",
        "plt.ylabel(\"Count\")\n",
        "plt.show()"
      ],
      "execution_count": 10,
      "outputs": [
        {
          "output_type": "display_data",
          "data": {
            "image/png": "[encoded data removed]",
            "text/plain": [
              "<Figure size 432x288 with 1 Axes>"
            ]
          },
          "metadata": {
            "tags": [],
            "needs_background": "light"
          }
        }
      ]
    },
    {
      "cell_type": "markdown",
      "metadata": {
        "id": "xo3iASdutWyf",
        "colab_type": "text"
      },
      "source": [
        "Boltzmann inversion  returns\n",
        "the $\\Delta G$ (up to an irrelevant additive constant)."
      ]
    },
    {
      "cell_type": "code",
      "metadata": {
        "id": "Sfi8UHkms9M4",
        "colab_type": "code",
        "outputId": "e5495f5b-b3dc-4930-fb57-0766f4d37ba9",
        "colab": {
          "base_uri": "https://localhost:8080/",
          "height": 243
        }
      },
      "source": [
        "dG = -kBT*np.log(hcount)\n",
        "dG = dG-np.min(dG)\n",
        "\n",
        "dG"
      ],
      "execution_count": 11,
      "outputs": [
        {
          "output_type": "execute_result",
          "data": {
            "text/plain": [
              "array([4.67362121, 4.26039374, 4.1273642 , 3.47241415, 3.16787972,\n",
              "       2.77898873, 2.40423662, 1.98442166, 1.63146377, 1.26339311,\n",
              "       0.97230055, 0.71752715, 0.47216468, 0.2732416 , 0.12059817,\n",
              "       0.03207627, 0.        , 0.0470046 , 0.11048021, 0.18296305,\n",
              "       0.26604439, 0.39019791, 0.55877327, 0.67488562, 0.79024385,\n",
              "       1.0197191 , 1.18906321, 1.34945654, 1.52853665, 1.6136133 ,\n",
              "       1.53006331, 1.60315406, 1.67272409, 1.68251349, 1.63146377,\n",
              "       1.62785066, 1.63509891, 1.55983839, 1.48446527, 1.37482893,\n",
              "       1.17964769, 1.02101934, 0.88177435, 0.70093926, 0.53873235,\n",
              "       0.4069213 , 0.28733146, 0.16892766, 0.07111353, 0.03133339,\n",
              "       0.04106379, 0.11048021, 0.20889074, 0.34896163, 0.50822573,\n",
              "       0.74392089, 0.95399203, 1.23477187, 1.58948788, 1.96192234,\n",
              "       2.36576126, 2.872961  , 3.47241415, 3.51354503, 4.26039374])"
            ]
          },
          "metadata": {
            "tags": []
          },
          "execution_count": 11
        }
      ]
    },
    {
      "cell_type": "code",
      "metadata": {
        "id": "kNWWpIZ7t4S2",
        "colab_type": "code",
        "outputId": "5dc289b1-614a-43d4-af25-fbc722e7a5a2",
        "colab": {
          "base_uri": "https://localhost:8080/",
          "height": 279
        }
      },
      "source": [
        "plt.plot(hstate,dG)\n",
        "plt.xlabel(\"State (X coordinate, 1 to 100)\")\n",
        "plt.ylabel(\"ΔG (a.u.) = -log(count)\")\n",
        "plt.show()"
      ],
      "execution_count": 12,
      "outputs": [
        {
          "output_type": "display_data",
          "data": {
            "image/png": "[encoded data removed]",
            "text/plain": [
              "<Figure size 432x288 with 1 Axes>"
            ]
          },
          "metadata": {
            "tags": [],
            "needs_background": "light"
          }
        }
      ]
    },
    {
      "cell_type": "markdown",
      "metadata": {
        "id": "fSLSyJxStnSd",
        "colab_type": "text"
      },
      "source": [
        "## Questions\n",
        "\n",
        "* What happens if all the counts are doubled? \n",
        "* How will the energy values change? \n",
        "* How will the relative energy values (e.g. transition state barrier)?"
      ]
    },
    {
      "cell_type": "markdown",
      "metadata": {
        "id": "v1p-XzsQuAJr",
        "colab_type": "text"
      },
      "source": [
        "\n",
        "# Markov state modeling\n",
        "\n",
        "## Construction of the transition matrix\n",
        "\n",
        "We compute how many times each state to state ($i\\to j$)\n",
        "transition has occurred *after a lag time of $\\tau$*."
      ]
    },
    {
      "cell_type": "code",
      "metadata": {
        "id": "9RyTNoNzuC7z",
        "colab_type": "code",
        "colab": {}
      },
      "source": [
        "tau = 10\n",
        "\n",
        "T = len(d)    # Length of the timeseries\n",
        "N = 100       # Number of microstates (the X positions)\n",
        "\n",
        "# Transition count matrix\n",
        "TM = np.zeros((N,N))\n",
        "\n",
        "# Convert coordinates (which could be a floating point number,\n",
        "# or a vector) to the INTEGER state number. In this case, we \n",
        "# assume integer position = integer state.\n",
        "def CV(x):\n",
        "  return int(x)\n",
        "\n",
        "for t in range(T-tau):\n",
        "  initial_state = CV(d[t])\n",
        "  final_state = CV(d[t+tau])\n",
        "  TM[initial_state,final_state] = TM[initial_state,final_state]+1\n"
      ],
      "execution_count": 0,
      "outputs": []
    },
    {
      "cell_type": "markdown",
      "metadata": {
        "id": "5bO3MPLbvq94",
        "colab_type": "text"
      },
      "source": [
        "The transition probability matrix is large (~ 100x100)\n",
        "but we may visualize it as an image."
      ]
    },
    {
      "cell_type": "code",
      "metadata": {
        "id": "6jzPKXSPuH4y",
        "colab_type": "code",
        "outputId": "7680b727-5fa2-41a7-f011-7a4d2ac9ff14",
        "colab": {
          "base_uri": "https://localhost:8080/",
          "height": 502
        }
      },
      "source": [
        "plt.figure(figsize=(8,8))\n",
        "plt.imshow(TM)"
      ],
      "execution_count": 14,
      "outputs": [
        {
          "output_type": "execute_result",
          "data": {
            "text/plain": [
              "<matplotlib.image.AxesImage at 0x7f4fe3cf1550>"
            ]
          },
          "metadata": {
            "tags": []
          },
          "execution_count": 14
        },
        {
          "output_type": "display_data",
          "data": {
            "image/png": "[encoded data removed]",
            "text/plain": [
              "<Figure size 576x576 with 1 Axes>"
            ]
          },
          "metadata": {
            "tags": [],
            "needs_background": "light"
          }
        }
      ]
    },
    {
      "cell_type": "markdown",
      "metadata": {
        "id": "QinzKYlAvyFi",
        "colab_type": "text"
      },
      "source": [
        "\n",
        "Of course, transitions around the two\n",
        "free energy wells are sampled more often, so they show\n",
        "up clearly.\n",
        "\n",
        "We divide each row of the transition\n",
        "count  matrix so that they\n",
        "sum to unity. We thus obtain the\n",
        "transition *probability* matrix. Note\n",
        "that, for simplicity, this is a simplified\n",
        "treatment in the following respects: (1) \n",
        "one should take care\n",
        "of reversibility, (2) use a maximum-likelihood\n",
        "estimator, and (3) deal properly with zero counts\n",
        "(which cause singularities).\n"
      ]
    },
    {
      "cell_type": "code",
      "metadata": {
        "id": "D5nU7mzRu3Y_",
        "colab_type": "code",
        "colab": {}
      },
      "source": [
        "eps = .1     # Add a pseudo-count to avoid division by zero\n",
        "\n",
        "P = np.zeros((N,N))\n",
        "for i in range(N):\n",
        "  R = TM[i,:] + eps\n",
        "  P[i,:] = R / np.sum(R)"
      ],
      "execution_count": 0,
      "outputs": []
    },
    {
      "cell_type": "code",
      "metadata": {
        "id": "mck4jRCtwiuY",
        "colab_type": "code",
        "outputId": "cbc3cf9b-ec97-4f53-94dd-faaf4831a4eb",
        "colab": {
          "base_uri": "https://localhost:8080/",
          "height": 502
        }
      },
      "source": [
        "plt.figure(figsize=(8,8))\n",
        "plt.imshow(P)"
      ],
      "execution_count": 16,
      "outputs": [
        {
          "output_type": "execute_result",
          "data": {
            "text/plain": [
              "<matplotlib.image.AxesImage at 0x7f4fe3c529b0>"
            ]
          },
          "metadata": {
            "tags": []
          },
          "execution_count": 16
        },
        {
          "output_type": "display_data",
          "data": {
            "image/png": "[encoded data removed]",
            "text/plain": [
              "<Figure size 576x576 with 1 Axes>"
            ]
          },
          "metadata": {
            "tags": [],
            "needs_background": "light"
          }
        }
      ]
    },
    {
      "cell_type": "markdown",
      "metadata": {
        "id": "Ck6VdscAw_15",
        "colab_type": "text"
      },
      "source": [
        "\n",
        "# Eigenvalues\n",
        "\n",
        "From the transition probability matrix **at lag $\\tau$**\n",
        "we compute the *left*  eigenvectors and eigenvalues.\n",
        "\n",
        "The eigenvalues correspond to the relaxation \n",
        "rates towards equilibrium. The largest eigenvalue\n",
        "is unity, corresponding to the stationary state.\n",
        "\n",
        "Eigenvalues describe the negative *exponential* relaxation time scales, in units of $\\tau$. Therefore, \n",
        "the should be converted to \"normal\" time units\n",
        "throught the *implied time scales* (ITS) equation, i.e.:\n",
        "\n",
        "$$\\tau_i = -\\tau/\\log(\\mu_i)$$\n",
        "\n",
        "where $\\tau_i$ is the $i$-th implied time scale and $\\mu_i$\n",
        "the corresponding eigenvalue.\n"
      ]
    },
    {
      "cell_type": "code",
      "metadata": {
        "id": "gPObmu4ixcxh",
        "colab_type": "code",
        "colab": {}
      },
      "source": [
        "from numpy.linalg import *"
      ],
      "execution_count": 0,
      "outputs": []
    },
    {
      "cell_type": "code",
      "metadata": {
        "id": "xAWaM1NIxkv5",
        "colab_type": "code",
        "colab": {}
      },
      "source": [
        "eva, eve = eig(P.T)"
      ],
      "execution_count": 0,
      "outputs": []
    },
    {
      "cell_type": "code",
      "metadata": {
        "id": "wqVhjfCMxqpi",
        "colab_type": "code",
        "outputId": "04d38f9d-b5d5-436e-ade6-1f23461ae8d5",
        "colab": {
          "base_uri": "https://localhost:8080/",
          "height": 296
        }
      },
      "source": [
        "eva10 = np.real(eva[:21])\n",
        "plt.plot(eva10,'o')\n",
        "plt.xlabel(\"Eigenvalue index (sorted)\")\n",
        "plt.ylabel(\"Eigenvalue magnitude\")"
      ],
      "execution_count": 26,
      "outputs": [
        {
          "output_type": "execute_result",
          "data": {
            "text/plain": [
              "Text(0, 0.5, 'Eigenvalue magnitude')"
            ]
          },
          "metadata": {
            "tags": []
          },
          "execution_count": 26
        },
        {
          "output_type": "display_data",
          "data": {
            "image/png": "[encoded data removed]",
            "text/plain": [
              "<Figure size 432x288 with 1 Axes>"
            ]
          },
          "metadata": {
            "tags": [],
            "needs_background": "light"
          }
        }
      ]
    },
    {
      "cell_type": "code",
      "metadata": {
        "id": "MCTv0W2JxwYa",
        "colab_type": "code",
        "outputId": "4e6d3278-4e31-497f-cb39-9f1595d13195",
        "colab": {
          "base_uri": "https://localhost:8080/",
          "height": 156
        }
      },
      "source": [
        "taus = -tau/np.log(eva10)\n",
        "taus[0] = np.nan\n",
        "taus"
      ],
      "execution_count": 27,
      "outputs": [
        {
          "output_type": "stream",
          "text": [
            "/usr/local/lib/python3.6/dist-packages/ipykernel_launcher.py:1: RuntimeWarning: invalid value encountered in log\n",
            "  \"\"\"Entry point for launching an IPython kernel.\n"
          ],
          "name": "stderr"
        },
        {
          "output_type": "execute_result",
          "data": {
            "text/plain": [
              "array([          nan, 1298.01683708,   75.92477388,   47.75830868,\n",
              "         36.2542477 ,   19.98063721,   24.20116923,   15.35149309,\n",
              "         13.1679288 ,   10.58857613,   10.29479082,    8.05338102,\n",
              "          7.46943775,    6.25694923,    5.73484825,    5.43681264,\n",
              "          4.82469658,    4.11109207,           nan,           nan,\n",
              "          3.75622845])"
            ]
          },
          "metadata": {
            "tags": []
          },
          "execution_count": 27
        }
      ]
    },
    {
      "cell_type": "code",
      "metadata": {
        "id": "wcWHfnUhx9hi",
        "colab_type": "code",
        "outputId": "d5ba3392-4a8f-4dd1-ffe0-06cf88720bc7",
        "colab": {
          "base_uri": "https://localhost:8080/",
          "height": 296
        }
      },
      "source": [
        "plt.plot(taus,'o')\n",
        "plt.hlines(tau, xmin=0, xmax=20)\n",
        "\n",
        "plt.xlabel(\"Eigenvalue index (sorted)\")\n",
        "plt.ylabel(\"Implied timescale\")"
      ],
      "execution_count": 28,
      "outputs": [
        {
          "output_type": "execute_result",
          "data": {
            "text/plain": [
              "Text(0, 0.5, 'Implied timescale')"
            ]
          },
          "metadata": {
            "tags": []
          },
          "execution_count": 28
        },
        {
          "output_type": "display_data",
          "data": {
            "image/png": "[encoded data removed]",
            "text/plain": [
              "<Figure size 432x288 with 1 Axes>"
            ]
          },
          "metadata": {
            "tags": [],
            "needs_background": "light"
          }
        }
      ]
    },
    {
      "cell_type": "markdown",
      "metadata": {
        "id": "GemvkJj_0J1R",
        "colab_type": "text"
      },
      "source": [
        "\n",
        "Given the  spread of timescales is usually\n",
        "large, we plot them in logarithmic scale.\n",
        "\n",
        "Kinetics faster than $\\tau$ can **not** be \n",
        "resolved by construction of the transition\n",
        "matrix."
      ]
    },
    {
      "cell_type": "code",
      "metadata": {
        "id": "Nq2HPp1zyzqS",
        "colab_type": "code",
        "outputId": "de60aa7b-2fa6-4115-c7ff-466917b85f01",
        "colab": {
          "base_uri": "https://localhost:8080/",
          "height": 296
        }
      },
      "source": [
        "plt.semilogy(taus,'o')\n",
        "plt.hlines(tau, xmin=0, xmax=20)\n",
        "\n",
        "plt.xlabel(\"Eigenvalue index (sorted)\")\n",
        "plt.ylabel(\"Implied timescale\")"
      ],
      "execution_count": 29,
      "outputs": [
        {
          "output_type": "execute_result",
          "data": {
            "text/plain": [
              "Text(0, 0.5, 'Implied timescale')"
            ]
          },
          "metadata": {
            "tags": []
          },
          "execution_count": 29
        },
        {
          "output_type": "display_data",
          "data": {
            "image/png": "[encoded data removed]",
            "text/plain": [
              "<Figure size 432x288 with 1 Axes>"
            ]
          },
          "metadata": {
            "tags": [],
            "needs_background": "light"
          }
        }
      ]
    },
    {
      "cell_type": "markdown",
      "metadata": {
        "id": "DMYReimw0Nb4",
        "colab_type": "text"
      },
      "source": [
        "# First eigenvector: the stationary state\n",
        "\n",
        "Eigenvectors matching a given eigenvalue describe \n",
        "the \"contribution\" of each state to that relaxation\n",
        "mode.  The eigenvector of the unitary eigenvalue\n",
        "is the stationary distribution, i.e. the equilibrium\n",
        "(after normalizing it so it sums to 1).\n",
        "Its Boltzmann inversion provides the free energy landscape.\n"
      ]
    },
    {
      "cell_type": "code",
      "metadata": {
        "id": "Ja86rzjzzxJD",
        "colab_type": "code",
        "outputId": "e5266f00-2f0c-4308-8969-5981980a0d5c",
        "colab": {
          "base_uri": "https://localhost:8080/",
          "height": 296
        }
      },
      "source": [
        "ev0 = np.real(eve[:,0])\n",
        "ev0n = ev0/np.sum(ev0)   # Probabilities must sum to 1\n",
        "\n",
        "plt.plot(ev0n)\n",
        "plt.xlabel(\"State\")\n",
        "plt.ylabel(\"Equilibrium (stationary) probability\")"
      ],
      "execution_count": 23,
      "outputs": [
        {
          "output_type": "execute_result",
          "data": {
            "text/plain": [
              "Text(0, 0.5, 'Equilibrium (stationary) probability')"
            ]
          },
          "metadata": {
            "tags": []
          },
          "execution_count": 23
        },
        {
          "output_type": "display_data",
          "data": {
            "image/png": "[encoded data removed]",
            "text/plain": [
              "<Figure size 432x288 with 1 Axes>"
            ]
          },
          "metadata": {
            "tags": [],
            "needs_background": "light"
          }
        }
      ]
    },
    {
      "cell_type": "markdown",
      "metadata": {
        "id": "5q-lMfg70uDE",
        "colab_type": "text"
      },
      "source": [
        "Probabilities can be directly transformed into free energy values with Boltzmann inversion."
      ]
    },
    {
      "cell_type": "code",
      "metadata": {
        "id": "38ZEvvi50XXa",
        "colab_type": "code",
        "outputId": "f96a28a3-6298-467e-9dbc-ac29b2c46d33",
        "colab": {
          "base_uri": "https://localhost:8080/",
          "height": 364
        }
      },
      "source": [
        "ev0dg = -kBT*np.log(ev0n)\n",
        "ev0dg = ev0dg-np.min(ev0dg)\n",
        "\n",
        "ev0dg"
      ],
      "execution_count": 34,
      "outputs": [
        {
          "output_type": "execute_result",
          "data": {
            "text/plain": [
              "array([3.71673007, 3.71673007, 3.71673007, 3.71673007, 3.71673007,\n",
              "       3.71673007, 3.71673007, 3.71673007, 3.71673007, 3.71673007,\n",
              "       3.71673007, 3.71673007, 3.71673007, 3.71673007, 3.71673007,\n",
              "       3.71673007, 3.71673007, 3.60904133, 3.51877311, 3.47783595,\n",
              "       3.17363019, 2.97395811, 2.6753193 , 2.36163947, 1.96286644,\n",
              "       1.62175377, 1.26277188, 0.97183888, 0.71718143, 0.472451  ,\n",
              "       0.27366308, 0.12103987, 0.0323621 , 0.        , 0.04659949,\n",
              "       0.10957493, 0.18158914, 0.26418951, 0.3877193 , 0.55545726,\n",
              "       0.6708929 , 0.78549115, 1.01297622, 1.18034346, 1.33829465,\n",
              "       1.51368006, 1.59669503, 1.51556651, 1.58688688, 1.65458719,\n",
              "       1.66435107, 1.61498842, 1.61161093, 1.61882741, 1.54576784,\n",
              "       1.47233877, 1.36511129, 1.17322708, 1.01659872, 0.87871911,\n",
              "       0.69924161, 0.53794798, 0.40672049, 0.28755805, 0.16950167,\n",
              "       0.0719279 , 0.03223698, 0.04195041, 0.1112156 , 0.20937641,\n",
              "       0.34901093, 0.5076373 , 0.74201097, 0.9503765 , 1.22771078,\n",
              "       1.57503173, 1.93340668, 2.3089522 , 2.74514411, 3.17026333,\n",
              "       3.19460132, 3.51602862, 3.71673007, 3.71673007, 3.71673007,\n",
              "       3.71673007, 3.71673007, 3.71673007, 3.71673007, 3.71673007,\n",
              "       3.71673007, 3.71673007, 3.71673007, 3.71673007, 3.71673007,\n",
              "       3.71673007, 3.71673007, 3.71673007, 3.71673007, 3.71673007])"
            ]
          },
          "metadata": {
            "tags": []
          },
          "execution_count": 34
        }
      ]
    },
    {
      "cell_type": "code",
      "metadata": {
        "id": "XVdL2nrB0ghF",
        "colab_type": "code",
        "outputId": "f06eb330-3daf-47e8-8b6e-093f99e4a869",
        "colab": {
          "base_uri": "https://localhost:8080/",
          "height": 296
        }
      },
      "source": [
        "plt.plot(ev0dg, 'r')\n",
        "plt.xlabel(\"State\")\n",
        "plt.ylabel(\"Free energy\")"
      ],
      "execution_count": 43,
      "outputs": [
        {
          "output_type": "execute_result",
          "data": {
            "text/plain": [
              "Text(0, 0.5, 'Free energy')"
            ]
          },
          "metadata": {
            "tags": []
          },
          "execution_count": 43
        },
        {
          "output_type": "display_data",
          "data": {
            "image/png": "[encoded data removed]",
            "text/plain": [
              "<Figure size 432x288 with 1 Axes>"
            ]
          },
          "metadata": {
            "tags": [],
            "needs_background": "light"
          }
        }
      ]
    },
    {
      "cell_type": "markdown",
      "metadata": {
        "id": "jO575fTF2M-k",
        "colab_type": "text"
      },
      "source": [
        "# Next eigenvectors: kinetics\n",
        "\n",
        "The other eigenvector describe the \n",
        "\"wave\" of the relaxation (at the matching\n",
        "implied timescale)."
      ]
    },
    {
      "cell_type": "code",
      "metadata": {
        "id": "-G23mFq213z9",
        "colab_type": "code",
        "colab": {
          "base_uri": "https://localhost:8080/",
          "height": 325
        },
        "outputId": "410fb768-ad75-48d3-99ac-32831cbd9c36"
      },
      "source": [
        "ev1 = np.real(eve[:,1])\n",
        "\n",
        "fig, axs = plt.subplots(2)\n",
        "fig.suptitle('Slowest relaxation mode')\n",
        "\n",
        "axs[0].plot(ev1)\n",
        "axs[0].hlines(0,xmin=0,xmax=100,linestyles=\"dashed\")\n",
        "axs[0].set_ylabel(\"Contribution\")\n",
        "\n",
        "axs[1].plot(ev0dg, 'r')\n",
        "axs[1].set_ylabel(\"Free energy\")\n",
        "axs[1].set_xlabel(\"State\")\n",
        "\n"
      ],
      "execution_count": 42,
      "outputs": [
        {
          "output_type": "execute_result",
          "data": {
            "text/plain": [
              "Text(0.5, 0, 'State')"
            ]
          },
          "metadata": {
            "tags": []
          },
          "execution_count": 42
        },
        {
          "output_type": "display_data",
          "data": {
            "image/png": "[encoded data removed]",
            "text/plain": [
              "<Figure size 432x288 with 2 Axes>"
            ]
          },
          "metadata": {
            "tags": [],
            "needs_background": "light"
          }
        }
      ]
    },
    {
      "cell_type": "code",
      "metadata": {
        "id": "eWHki_MCGV-P",
        "colab_type": "code",
        "colab": {
          "base_uri": "https://localhost:8080/",
          "height": 325
        },
        "outputId": "ee03278d-cfe5-4364-d44e-023e0488915e"
      },
      "source": [
        "ev1 = np.real(eve[:,2])\n",
        "\n",
        "fig, axs = plt.subplots(2)\n",
        "fig.suptitle('2nd slowest mode')\n",
        "\n",
        "axs[0].plot(ev1)\n",
        "axs[0].hlines(0,xmin=0,xmax=100,linestyles=\"dashed\")\n",
        "axs[0].set_ylabel(\"Contribution\")\n",
        "\n",
        "axs[1].plot(ev0dg, 'r')\n",
        "axs[1].set_ylabel(\"Free energy\")\n",
        "axs[1].set_xlabel(\"State\")\n",
        "\n"
      ],
      "execution_count": 44,
      "outputs": [
        {
          "output_type": "execute_result",
          "data": {
            "text/plain": [
              "Text(0.5, 0, 'State')"
            ]
          },
          "metadata": {
            "tags": []
          },
          "execution_count": 44
        },
        {
          "output_type": "display_data",
          "data": {
            "image/png": "[encoded data removed]",
            "text/plain": [
              "<Figure size 432x288 with 2 Axes>"
            ]
          },
          "metadata": {
            "tags": [],
            "needs_background": "light"
          }
        }
      ]
    },
    {
      "cell_type": "markdown",
      "metadata": {
        "id": "qtsWg9Wn2S-y",
        "colab_type": "text"
      },
      "source": [
        "\n",
        "The shape of  the eigenvectors suggests\n",
        "a clustering into coarser-grained macrostates.\n",
        "This constitutes the gist of \n",
        "the Perron-cluster analysis (PCCA+).\n",
        "\n",
        "## Choice of the lag time\n",
        "\n",
        "Remember that the transition matrix \n",
        "was, by construction,    **a function of $\\tau$**.\n",
        "Therefore, the whole eigenvector analysis \n",
        "shown before should be repeated at increasing\n",
        "values of $\\tau$ to study its sensitivity.\n",
        "\n",
        "We pick the smallest $\\tau$ such that the implied\n",
        "timescales are effectively \"flat\". Again,\n",
        "the literature provides much more sophisticated\n",
        "statistical tests\n",
        "on the Markovianity assumption (e.g. Chapman-Kolmogorov).\n",
        "See e.g. [PyEmma's Model selection and validation](http://www.emma-project.org/latest/generated/model_selection_validation.html) tutorial.\n",
        "\n"
      ]
    },
    {
      "cell_type": "code",
      "metadata": {
        "id": "g-Oixx1SHBe9",
        "colab_type": "code",
        "colab": {}
      },
      "source": [
        "# Repeat the same steps as above, but at lag time tau\n",
        "def evanalysis(tau, n_its):\n",
        "  TM = np.zeros((N,N))\n",
        "\n",
        "  for t in range(T-tau):\n",
        "    initial_state = CV(d[t])\n",
        "    final_state = CV(d[t+tau])\n",
        "    TM[initial_state,final_state] = TM[initial_state,final_state]+1\n",
        "\n",
        "  eps = .1     # Add a pseudo-count to avoid division by zero\n",
        "  P = np.zeros((N,N))\n",
        "  for i in range(N):\n",
        "    R = TM[i,:] + eps\n",
        "    P[i,:] = R / np.sum(R)\n",
        "\n",
        "  eva, eve = eig(P.T)\n",
        "  eva = np.real(eva[:n_its]) \n",
        "  eve = np.real(eve[:n_its])\n",
        "\n",
        "  taus = -tau/np.log(eva[1:])\n",
        "\n",
        "  return { 'eva': eva,\n",
        "           'eve': eve,\n",
        "           'taus': taus}\n",
        "\n",
        "\n"
      ],
      "execution_count": 0,
      "outputs": []
    },
    {
      "cell_type": "code",
      "metadata": {
        "id": "ezpPaiCUJdni",
        "colab_type": "code",
        "colab": {
          "base_uri": "https://localhost:8080/",
          "height": 1000
        },
        "outputId": "9eb27623-2309-450e-abd3-76b30bc78be0"
      },
      "source": [
        "evanalysis(10, n_its=6)"
      ],
      "execution_count": 62,
      "outputs": [
        {
          "output_type": "execute_result",
          "data": {
            "text/plain": [
              "{'eva': array([1.        , 0.99232554, 0.87659577, 0.81108076, 0.75894213,\n",
              "        0.60623684]),\n",
              " 'eve': array([[ 5.54605489e-04, -6.87594600e-06,  8.67401886e-04,\n",
              "         -4.52031928e-05, -1.10462823e-03,  2.40648145e-03,\n",
              "          7.11797873e-05,  5.78526862e-04,  6.37911198e-03,\n",
              "         -4.48130787e-03, -7.87992345e-03, -4.69195453e-03,\n",
              "          2.68011518e-03, -2.27425486e-03,  1.06621997e-03,\n",
              "          6.85857472e-04,  1.02096421e-03,  8.39128691e-04,\n",
              "          3.99523740e-04,  3.99523740e-04,  2.75640693e-04,\n",
              "         -9.22807077e-06, -9.22807077e-06, -9.82799519e-04,\n",
              "         -9.82799519e-04,  6.13103805e-04,  6.13103805e-04,\n",
              "         -4.52417399e-04, -3.31724136e-04, -2.31145651e-03,\n",
              "         -2.31145651e-03,  2.82737909e-04, -2.46421273e-05,\n",
              "          1.46380491e-05,  1.46380491e-05,  2.75267620e-04,\n",
              "         -2.29385380e-05, -2.29385380e-05,  8.00767796e-05,\n",
              "          1.42848814e-04,  3.17629403e-05,  3.17629403e-05,\n",
              "         -1.00119468e-05, -7.23247938e-04, -2.34379897e-05,\n",
              "         -2.34379897e-05, -2.69222855e-05, -2.69222855e-05,\n",
              "         -1.74519599e-04, -1.74519599e-04,  6.40187317e-05,\n",
              "          6.40187317e-05,  3.17151659e-04,  8.77829959e-04,\n",
              "          8.77829959e-04,  3.85430317e-04,  8.98529335e-05,\n",
              "          8.98529335e-05,  2.19385560e-04,  2.19385560e-04,\n",
              "          6.04126325e-04, -6.09224928e-04, -6.09224928e-04,\n",
              "          3.64795311e-04, -2.46575423e-04, -6.05084174e-04,\n",
              "         -8.78483050e-01,  3.93904312e-02,  3.93904312e-02,\n",
              "         -1.84287141e-02, -1.84287141e-02,  1.26249895e-01,\n",
              "          1.26249895e-01, -2.59068427e-02, -2.59068427e-02,\n",
              "         -3.27271104e-02, -1.01442860e-02, -1.01442860e-02,\n",
              "         -1.22460423e-03, -1.22460423e-03, -4.65677131e-02,\n",
              "         -4.65677131e-02,  4.99717177e-02,  4.99717177e-02,\n",
              "          1.18091663e-02, -2.76569452e-02, -2.76569452e-02,\n",
              "          7.87664529e-03, -7.83268783e-03, -7.83268783e-03,\n",
              "          1.78976220e-03,  2.12719331e-03,  2.12719331e-03,\n",
              "          1.54853645e-02, -1.65809788e-03, -1.65809788e-03,\n",
              "         -4.50021630e-03, -8.65331261e-03, -7.41827467e-16,\n",
              "          1.74881054e-15],\n",
              "        [ 5.54605489e-04, -6.87594600e-06,  8.67401886e-04,\n",
              "         -4.52031928e-05, -1.10462823e-03,  2.40648145e-03,\n",
              "          7.11797873e-05,  5.78526862e-04,  6.37911198e-03,\n",
              "         -4.48130787e-03, -7.87992345e-03, -4.69195453e-03,\n",
              "          2.68011518e-03, -2.27425486e-03,  1.06621997e-03,\n",
              "          6.85857472e-04,  1.02096421e-03,  8.39128691e-04,\n",
              "          3.99523740e-04,  3.99523740e-04,  2.75640693e-04,\n",
              "         -9.22807077e-06, -9.22807077e-06, -9.82799519e-04,\n",
              "         -9.82799519e-04,  6.13103805e-04,  6.13103805e-04,\n",
              "         -4.52417399e-04, -3.31724136e-04, -2.31145651e-03,\n",
              "         -2.31145651e-03,  2.82737909e-04, -2.46421273e-05,\n",
              "          1.46380491e-05,  1.46380491e-05,  2.75267620e-04,\n",
              "         -2.29385380e-05, -2.29385380e-05,  8.00767796e-05,\n",
              "          1.42848814e-04,  3.17629403e-05,  3.17629403e-05,\n",
              "         -1.00119468e-05, -7.23247938e-04, -2.34379897e-05,\n",
              "         -2.34379897e-05, -2.69222855e-05, -2.69222855e-05,\n",
              "         -1.74519599e-04, -1.74519599e-04,  6.40187317e-05,\n",
              "          6.40187317e-05,  3.17151659e-04,  8.77829959e-04,\n",
              "          8.77829959e-04,  3.85430317e-04,  8.98529335e-05,\n",
              "          8.98529335e-05,  2.19385560e-04,  2.19385560e-04,\n",
              "          6.04126325e-04, -6.09224928e-04, -6.09224928e-04,\n",
              "          3.64795311e-04, -2.46575423e-04, -6.05084174e-04,\n",
              "          2.38887575e-01, -2.63313546e-01, -2.63313546e-01,\n",
              "          3.98548371e-01,  3.98548371e-01, -3.07702299e-01,\n",
              "         -3.07702299e-01,  1.38007774e-01,  1.38007774e-01,\n",
              "         -1.32201475e-01,  9.69622285e-02,  9.69622285e-02,\n",
              "          6.62941935e-02,  6.62941935e-02, -1.29148506e-02,\n",
              "         -1.29148506e-02, -4.88038587e-02, -4.88038587e-02,\n",
              "          1.18695225e-02, -2.99890080e-03, -2.99890080e-03,\n",
              "         -1.89551203e-03, -2.14846497e-03, -2.14846497e-03,\n",
              "         -2.92886481e-03,  1.51550693e-03,  1.51550693e-03,\n",
              "         -6.79990890e-03,  5.91917608e-03,  5.91917608e-03,\n",
              "         -4.26314844e-03,  1.29793062e-02,  9.76443192e-16,\n",
              "         -1.86985652e-15],\n",
              "        [ 5.54605489e-04, -6.87594600e-06,  8.67401886e-04,\n",
              "         -4.52031928e-05, -1.10462823e-03,  2.40648145e-03,\n",
              "          7.11797873e-05,  5.78526862e-04,  6.37911198e-03,\n",
              "         -4.48130787e-03, -7.87992345e-03, -4.69195453e-03,\n",
              "          2.68011518e-03, -2.27425486e-03,  1.06621997e-03,\n",
              "          6.85857472e-04,  1.02096421e-03,  8.39128691e-04,\n",
              "          3.99523740e-04,  3.99523740e-04,  2.75640693e-04,\n",
              "         -9.22807077e-06, -9.22807077e-06, -9.82799519e-04,\n",
              "         -9.82799519e-04,  6.13103805e-04,  6.13103805e-04,\n",
              "         -4.52417399e-04, -3.31724136e-04, -2.31145651e-03,\n",
              "         -2.31145651e-03,  2.82737909e-04, -2.46421273e-05,\n",
              "          1.46380491e-05,  1.46380491e-05,  2.75267620e-04,\n",
              "         -2.29385380e-05, -2.29385380e-05,  8.00767796e-05,\n",
              "          1.42848814e-04,  3.17629403e-05,  3.17629403e-05,\n",
              "         -1.00119468e-05, -7.23247938e-04, -2.34379897e-05,\n",
              "         -2.34379897e-05, -2.69222855e-05, -2.69222855e-05,\n",
              "         -1.74519599e-04, -1.74519599e-04,  6.40187317e-05,\n",
              "          6.40187317e-05,  3.17151659e-04,  8.77829959e-04,\n",
              "          8.77829959e-04,  3.85430317e-04,  8.98529335e-05,\n",
              "          8.98529335e-05,  2.19385560e-04,  2.19385560e-04,\n",
              "          6.04126325e-04, -6.09224928e-04, -6.09224928e-04,\n",
              "          3.64795311e-04, -2.46575423e-04, -6.05084174e-04,\n",
              "         -2.24090922e-02,  1.11427138e-01,  1.11427138e-01,\n",
              "         -2.13746254e-01, -2.13746254e-01,  2.19406341e-01,\n",
              "          2.19406341e-01, -1.85614826e-01, -1.85614826e-01,\n",
              "         -3.81839709e-02, -2.24550410e-01, -2.24550410e-01,\n",
              "         -1.56485275e-01, -1.56485275e-01, -5.24416205e-02,\n",
              "         -5.24416205e-02, -5.14699183e-02, -5.14699183e-02,\n",
              "         -3.99379210e-03, -1.39431283e-03, -1.39431283e-03,\n",
              "          5.58666704e-04, -7.81256819e-04, -7.81256819e-04,\n",
              "          2.23132268e-03,  2.15908436e-04,  2.15908436e-04,\n",
              "          5.28280733e-03, -2.79185309e-03, -2.79185309e-03,\n",
              "          1.59802057e-03, -7.55550125e-03, -5.92638050e-16,\n",
              "          1.14845865e-15],\n",
              "        [ 5.54605489e-04, -6.87594600e-06,  8.67401886e-04,\n",
              "         -4.52031928e-05, -1.10462823e-03,  2.40648145e-03,\n",
              "          7.11797873e-05,  5.78526862e-04,  6.37911198e-03,\n",
              "         -4.48130787e-03, -7.87992345e-03, -4.69195453e-03,\n",
              "          2.68011518e-03, -2.27425486e-03,  1.06621997e-03,\n",
              "          6.85857472e-04,  1.02096421e-03,  8.39128691e-04,\n",
              "          3.99523740e-04,  3.99523740e-04,  2.75640693e-04,\n",
              "         -9.22807077e-06, -9.22807077e-06, -9.82799519e-04,\n",
              "         -9.82799519e-04,  6.13103805e-04,  6.13103805e-04,\n",
              "         -4.52417399e-04, -3.31724136e-04, -2.31145651e-03,\n",
              "         -2.31145651e-03,  2.82737909e-04, -2.46421273e-05,\n",
              "          1.46380491e-05,  1.46380491e-05,  2.75267620e-04,\n",
              "         -2.29385380e-05, -2.29385380e-05,  8.00767796e-05,\n",
              "          1.42848814e-04,  3.17629403e-05,  3.17629403e-05,\n",
              "         -1.00119468e-05, -7.23247938e-04, -2.34379897e-05,\n",
              "         -2.34379897e-05, -2.69222855e-05, -2.69222855e-05,\n",
              "         -1.74519599e-04, -1.74519599e-04,  6.40187317e-05,\n",
              "          6.40187317e-05,  3.17151659e-04,  8.77829959e-04,\n",
              "          8.77829959e-04,  3.85430317e-04,  8.98529335e-05,\n",
              "          8.98529335e-05,  2.19385560e-04,  2.19385560e-04,\n",
              "          6.04126325e-04, -6.09224928e-04, -6.09224928e-04,\n",
              "          3.64795311e-04, -2.46575423e-04, -6.05084174e-04,\n",
              "         -6.45836171e-02,  4.15788785e-02,  4.15788785e-02,\n",
              "          1.49036647e-01,  1.49036647e-01,  2.00575051e-01,\n",
              "          2.00575051e-01,  7.66868263e-02,  7.66868263e-02,\n",
              "         -1.13917413e-01,  2.73633302e-01,  2.73633302e-01,\n",
              "         -4.65149297e-02, -4.65149297e-02, -4.33202603e-03,\n",
              "         -4.33202603e-03,  6.44605027e-02,  6.44605027e-02,\n",
              "         -6.15426974e-03, -1.58026235e-02, -1.58026235e-02,\n",
              "          1.23841283e-02,  2.28080119e-03,  2.28080119e-03,\n",
              "         -1.21154050e-03, -8.70114707e-04, -8.70114707e-04,\n",
              "         -3.50587188e-04,  7.85446131e-04,  7.85446131e-04,\n",
              "         -1.06674019e-03,  2.85640802e-03,  2.73161211e-16,\n",
              "         -5.07563968e-16],\n",
              "        [ 5.54605489e-04, -6.87594600e-06,  8.67401886e-04,\n",
              "         -4.52031928e-05, -1.10462823e-03,  2.40648145e-03,\n",
              "          7.11797873e-05,  5.78526862e-04,  6.37911198e-03,\n",
              "         -4.48130787e-03, -7.87992345e-03, -4.69195453e-03,\n",
              "          2.68011518e-03, -2.27425486e-03,  1.06621997e-03,\n",
              "          6.85857472e-04,  1.02096421e-03,  8.39128691e-04,\n",
              "          3.99523740e-04,  3.99523740e-04,  2.75640693e-04,\n",
              "         -9.22807077e-06, -9.22807077e-06, -9.82799519e-04,\n",
              "         -9.82799519e-04,  6.13103805e-04,  6.13103805e-04,\n",
              "         -4.52417399e-04, -3.31724136e-04, -2.31145651e-03,\n",
              "         -2.31145651e-03,  2.82737909e-04, -2.46421273e-05,\n",
              "          1.46380491e-05,  1.46380491e-05,  2.75267620e-04,\n",
              "         -2.29385380e-05, -2.29385380e-05,  8.00767796e-05,\n",
              "          1.42848814e-04,  3.17629403e-05,  3.17629403e-05,\n",
              "         -1.00119468e-05, -7.23247938e-04, -2.34379897e-05,\n",
              "         -2.34379897e-05, -2.69222855e-05, -2.69222855e-05,\n",
              "         -1.74519599e-04, -1.74519599e-04,  6.40187317e-05,\n",
              "          6.40187317e-05,  3.17151659e-04,  8.77829959e-04,\n",
              "          8.77829959e-04,  3.85430317e-04,  8.98529335e-05,\n",
              "          8.98529335e-05,  2.19385560e-04,  2.19385560e-04,\n",
              "          6.04126325e-04, -6.09224928e-04, -6.09224928e-04,\n",
              "          3.64795311e-04, -2.46575423e-04, -6.05084174e-04,\n",
              "          9.02490947e-02,  1.80963526e-01,  1.80963526e-01,\n",
              "          1.62929230e-01,  1.62929230e-01, -3.75846848e-02,\n",
              "         -3.75846848e-02, -2.77340157e-01, -2.77340157e-01,\n",
              "          6.85301399e-02, -1.65835805e-01, -1.65835805e-01,\n",
              "         -1.25545965e-01, -1.25545965e-01, -2.13146466e-02,\n",
              "         -2.13146466e-02, -1.48825662e-01, -1.48825662e-01,\n",
              "         -4.03483691e-03,  2.87400684e-02,  2.87400684e-02,\n",
              "         -2.56904641e-02,  2.80410226e-03,  2.80410226e-03,\n",
              "         -3.61135790e-03, -6.10840371e-03, -6.10840371e-03,\n",
              "          3.96760998e-03, -6.72109303e-03, -6.72109303e-03,\n",
              "         -1.37220538e-05, -1.08490657e-02, -1.54587171e-15,\n",
              "          2.65411646e-15],\n",
              "        [ 5.54605489e-04, -6.87594600e-06,  8.67401886e-04,\n",
              "         -4.52031928e-05, -1.10462823e-03,  2.40648145e-03,\n",
              "          7.11797873e-05,  5.78526862e-04,  6.37911198e-03,\n",
              "         -4.48130787e-03, -7.87992345e-03, -4.69195453e-03,\n",
              "          2.68011518e-03, -2.27425486e-03,  1.06621997e-03,\n",
              "          6.85857472e-04,  1.02096421e-03,  8.39128691e-04,\n",
              "          3.99523740e-04,  3.99523740e-04,  2.75640693e-04,\n",
              "         -9.22807077e-06, -9.22807077e-06, -9.82799519e-04,\n",
              "         -9.82799519e-04,  6.13103805e-04,  6.13103805e-04,\n",
              "         -4.52417399e-04, -3.31724136e-04, -2.31145651e-03,\n",
              "         -2.31145651e-03,  2.82737909e-04, -2.46421273e-05,\n",
              "          1.46380491e-05,  1.46380491e-05,  2.75267620e-04,\n",
              "         -2.29385380e-05, -2.29385380e-05,  8.00767796e-05,\n",
              "          1.42848814e-04,  3.17629403e-05,  3.17629403e-05,\n",
              "         -1.00119468e-05, -7.23247938e-04, -2.34379897e-05,\n",
              "         -2.34379897e-05, -2.69222855e-05, -2.69222855e-05,\n",
              "         -1.74519599e-04, -1.74519599e-04,  6.40187317e-05,\n",
              "          6.40187317e-05,  3.17151659e-04,  8.77829959e-04,\n",
              "          8.77829959e-04,  3.85430317e-04,  8.98529335e-05,\n",
              "          8.98529335e-05,  2.19385560e-04,  2.19385560e-04,\n",
              "          6.04126325e-04, -6.09224927e-04, -6.09224927e-04,\n",
              "          3.64795311e-04, -2.46575423e-04, -6.05084174e-04,\n",
              "          8.05214366e-02, -4.36814450e-01, -4.36814450e-01,\n",
              "          7.34604263e-02,  7.34604263e-02, -9.89195362e-02,\n",
              "         -9.89195362e-02, -1.06928837e-01, -1.06928837e-01,\n",
              "          1.44714352e-01, -2.07891787e-02, -2.07891787e-02,\n",
              "         -1.30932346e-01, -1.30932346e-01, -3.55830480e-02,\n",
              "         -3.55830480e-02, -7.94722694e-02, -7.94722694e-02,\n",
              "         -2.63353946e-02, -4.92900241e-03, -4.92900241e-03,\n",
              "         -3.86857718e-02, -1.37270328e-02, -1.37270328e-02,\n",
              "          1.16105255e-02, -3.62813690e-03, -3.62813690e-03,\n",
              "          4.95716544e-04,  8.10064166e-04,  8.10064166e-04,\n",
              "          2.11063217e-03, -1.26643382e-02, -1.87240370e-15,\n",
              "          3.31307277e-15]]),\n",
              " 'taus': array([1298.01683708,   75.92477388,   47.75830868,   36.2542477 ,\n",
              "          19.98063721])}"
            ]
          },
          "metadata": {
            "tags": []
          },
          "execution_count": 62
        }
      ]
    },
    {
      "cell_type": "code",
      "metadata": {
        "id": "KitnhbT2KbjC",
        "colab_type": "code",
        "colab": {
          "base_uri": "https://localhost:8080/",
          "height": 34
        },
        "outputId": "f0385a01-bd74-402f-cbbc-14cc29d4430d"
      },
      "source": [
        "# Repeat the analysis above with the following lag tau\n",
        "lag_list = [1,2,5, 10,20,50, 100,200,500, \n",
        "            1000,2000,5000,  10000,20000]\n",
        "\n",
        "n_its = 6\n",
        "tau_matrix = np.zeros( (len(lag_list), n_its-1 ))\n",
        "\n",
        "for i,lag in enumerate(lag_list):\n",
        "  ev = evanalysis(lag, n_its=n_its)\n",
        "  tau_matrix[i, :] = ev['taus']\n"
      ],
      "execution_count": 68,
      "outputs": [
        {
          "output_type": "stream",
          "text": [
            "/usr/local/lib/python3.6/dist-packages/ipykernel_launcher.py:19: RuntimeWarning: invalid value encountered in log\n"
          ],
          "name": "stderr"
        }
      ]
    },
    {
      "cell_type": "code",
      "metadata": {
        "id": "V5G94wWxPMtH",
        "colab_type": "code",
        "colab": {
          "base_uri": "https://localhost:8080/",
          "height": 503
        },
        "outputId": "832e2b38-1fe8-48bc-b234-ab064a907b4f"
      },
      "source": [
        "tau_matrix"
      ],
      "execution_count": 69,
      "outputs": [
        {
          "output_type": "execute_result",
          "data": {
            "text/plain": [
              "array([[2.27759687e+02, 3.77643109e+01, 2.53904934e+01, 3.28570982e+01,\n",
              "        1.46708322e+01],\n",
              "       [4.04199074e+02, 5.04367379e+01, 3.00588861e+01, 3.90003595e+01,\n",
              "        1.67749804e+01],\n",
              "       [8.15051736e+02, 6.65322917e+01, 4.48826698e+01, 3.41838862e+01,\n",
              "        2.28770648e+01],\n",
              "       [1.29801684e+03, 7.59247739e+01, 4.77583087e+01, 3.62542477e+01,\n",
              "        1.99806372e+01],\n",
              "       [1.91994414e+03, 8.36490897e+01, 4.94179811e+01, 3.80581168e+01,\n",
              "        2.49869488e+01],\n",
              "       [2.84194506e+03, 8.82953697e+01, 5.49116470e+01, 5.15739374e+01,\n",
              "        3.78148206e+01],\n",
              "       [3.29321068e+03, 1.11053015e+02, 8.54346730e+01, 4.88739149e+01,\n",
              "        4.16687336e+01],\n",
              "       [3.50433995e+03, 2.20582706e+02, 7.12049625e+01,            nan,\n",
              "        6.48846336e+01],\n",
              "       [3.66675653e+03, 5.47809390e+02, 1.64907889e+02,            nan,\n",
              "                   nan],\n",
              "       [3.59356471e+03, 1.09224424e+03,            nan,            nan,\n",
              "                   nan],\n",
              "       [3.48534299e+03, 2.18943293e+03, 6.66120569e+02,            nan,\n",
              "                   nan],\n",
              "       [5.47886137e+03, 3.76100890e+03, 1.33180022e+03, 1.33180022e+03,\n",
              "                   nan],\n",
              "       [1.09654574e+04, 4.72963903e+03, 4.50589422e+03, 3.05471344e+03,\n",
              "        3.05471344e+03],\n",
              "       [2.23970327e+04, 6.60945471e+03, 6.60945471e+03, 6.79935196e+03,\n",
              "                   nan]])"
            ]
          },
          "metadata": {
            "tags": []
          },
          "execution_count": 69
        }
      ]
    },
    {
      "cell_type": "code",
      "metadata": {
        "id": "2zW6oXmsPLuF",
        "colab_type": "code",
        "colab": {
          "base_uri": "https://localhost:8080/",
          "height": 518
        },
        "outputId": "e3a5291a-0c30-4932-ddd3-26f0327906c4"
      },
      "source": [
        "plt.figure(figsize=(10,8))\n",
        "plt.loglog(lag_list,tau_matrix, 'o-')\n",
        "plt.loglog(lag_list,lag_list, linestyle=\"dashed\")\n",
        "plt.xlabel(\"Lag time τ\")\n",
        "plt.ylabel(\"Implied timescales computed at τ\")"
      ],
      "execution_count": 80,
      "outputs": [
        {
          "output_type": "execute_result",
          "data": {
            "text/plain": [
              "Text(0, 0.5, 'Implied timescales computed at τ')"
            ]
          },
          "metadata": {
            "tags": []
          },
          "execution_count": 80
        },
        {
          "output_type": "display_data",
          "data": {
            "image/png": "[encoded data removed]",
            "text/plain": [
              "<Figure size 720x576 with 1 Axes>"
            ]
          },
          "metadata": {
            "tags": [],
            "needs_background": "light"
          }
        }
      ]
    },
    {
      "cell_type": "markdown",
      "metadata": {
        "id": "u_J3UJOP2Y3T",
        "colab_type": "text"
      },
      "source": [
        "\n",
        "So, in this specific case, the implied timescales\n",
        "are independent of $\\tau$. This is a lucky situation\n",
        "due to the fact that it is **truly** a two-state\n",
        "system, with one finely-discretized dimension,\n",
        "and (literally) no \"orthogonal\" degrees of freedom. \n"
      ]
    },
    {
      "cell_type": "markdown",
      "metadata": {
        "id": "0kjZ7it93EDE",
        "colab_type": "text"
      },
      "source": [
        "\n",
        "## Macrostates\n",
        "\n",
        "In practice, as soon as the system gets more complicated,\n",
        "one faces other situations. For example, the \n",
        "large separation of timescales may motivate\n",
        "us to discretize the system into two macrostates.\n",
        "In practice, one will lump many states into one,\n",
        "and recompute the transition matrices, eigenvectors,\n",
        "etc. \n",
        "\n",
        "Macrostates should be defined *kinetically*, i.e., \n",
        "they should hold configurations in interchanging\n",
        "relatively rapidly within them, separated by barriers.\n",
        "This decomposition may or may not correspond to\n",
        "distances in a space defined on the basis of structures.\n",
        "\n",
        "The zeros of the eigenvectors (see above) are a \n",
        "good starting point for defining kinetic basin boundaries.\n",
        "This can be done by inspection (in a simple\n",
        "case like this) or automatically (by the PCCA+ algorithm).\n",
        "Let's see two possible choices.\n",
        "\n",
        "\n",
        "![](https://raw.githubusercontent.com/giorginolab/Markov-Tutorial-BCN-2020/master/figs/fig_selval_ab.png)\n",
        "\n",
        "The \"good discretization\" is sufficiently \n",
        "fine so that the Markovian assumption holds,\n",
        "at least approximately, especially at larger $\\tau$: \n",
        "if we construct the transition matrix looking\n",
        "at a sufficiently far future, the system will\n",
        "have lost memory of the past. Also, the discretization\n",
        "is finer where the dynamics is slower. This also \n",
        "helps. \n",
        "\n",
        "In the \"good discretization\" case, it makes perfect \n",
        "sense to compute the mean first passage\n",
        "time (MFPT) between the leftmost and rightmost \n",
        "states. In a biomolecular system, that would be \n",
        "the kinetics.\n",
        "\n",
        "In the \"bad discretization\" case, the barrier is\n",
        "embedded in one of the states. This generates \n",
        "a \"long term memory\" effect:   the rightmost state\n",
        "could actually be short-lived (if we are on the left\n",
        "of the barrier) or long-lived (if we are on its right).\n",
        "These two cases are convoluted in the same state,\n",
        "so that the state information itself is not sufficient \n",
        "any longer to predict the \"future\" of the system.\n",
        "\n",
        "The implied timescale plots reflect the two cases.\n",
        "Note the lack of convergence in the \"bad\" case (no plateau).\n",
        "\n",
        "![](https://raw.githubusercontent.com/giorginolab/Markov-Tutorial-BCN-2020/master/figs/its.png)\n",
        "\n",
        "\n",
        "# Further study and play\n",
        "\n",
        "This worksheet is based on [PyEmma's Model selection and validation](http://www.emma-project.org/latest/generated/model_selection_validation.html) tutorial. The  tutorial uses a decimated version of\n",
        "the dataset used here (here loaded in the `d10`\n",
        "variable). What happens if you repeat\n",
        "the  analysis of this document on the decimated\n",
        "dataset? Can you explain the differences?\n",
        "\n",
        "You are encouraged to check the following software packages and the corresponding tutorials and datasets:\n",
        "\n",
        " * [PyEmma](http://www.emma-project.org)\n",
        " * [HTMD](https://www.htmd.org/)\n",
        " * [MSMBuilder](http://msmbuilder.org/)\n",
        " \n",
        "\n",
        "Relevant papers (a selection)\n",
        "\n",
        "1. Scherer MK, Trendelkamp-Schroer B, Paul F, Pérez-Hernández G, Hoffmann M, Plattner N, et al. PyEMMA 2: A Software Package for Estimation, Validation, and Analysis of Markov Models. J Chem Theory Comput. 2015 Nov 10;11(11):5525–42. \n",
        "1. Plattner N, Doerr S, De Fabritiis G, Noé F. Complete protein–protein association kinetics in atomic detail revealed by molecular dynamics simulations and Markov modelling. Nat Chem [Internet]. 2017 Jun 5 [cited 2017 Jun 9];advance online publication. Available from: http://www.nature.com/nchem/journal/vaop/ncurrent/full/nchem.2785.html?WT.feed_name=subjects_molecular-biology\n",
        "2. Chodera JD, Noé F. Markov state models of biomolecular conformational dynamics. Current Opinion in Structural Biology. 2014 Apr 1;25(Supplement C):135–44. \n",
        "3. Noé F, Fischer S. Transition networks for modeling the kinetics of conformational change in macromolecules. Current Opinion in Structural Biology. 2008 Apr 1;18(2):154–62. \n",
        "1. Pérez-Hernández G, Paul F, Giorgino T, De Fabritiis G, Noé F. Identification of slow molecular order parameters for Markov model construction. The Journal of Chemical Physics. 2013 Jul 3;139(1):015102-015102-13. \n",
        "1. Buch I, Giorgino T, De Fabritiis G. Complete reconstruction of an enzyme-inhibitor binding process by molecular dynamics simulations. Proc Natl Acad Sci USA. 2011 Jun 6;108(25):10184–9. \n",
        "\n"
      ]
    }
  ]
}